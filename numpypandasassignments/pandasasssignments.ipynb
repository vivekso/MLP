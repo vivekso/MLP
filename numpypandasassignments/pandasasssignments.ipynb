{
 "cells": [
  {
   "cell_type": "markdown",
   "metadata": {},
   "source": [
    "# Module: Pandas Assignments\n",
    "## Lesson: Pandas\n",
    "### Assignment 1: DataFrame Creation and Indexing\n",
    "\n",
    "1. Create a Pandas DataFrame with 4 columns and 6 rows filled with random integers. Set the index to be the first column.\n",
    "2. Create a Pandas DataFrame with columns 'A', 'B', 'C' and index 'X', 'Y', 'Z'. Fill the DataFrame with random integers and access the element at row 'Y' and column 'B'.\n",
    "\n",
    "### Assignment 2: DataFrame Operations\n",
    "\n",
    "1. Create a Pandas DataFrame with 3 columns and 5 rows filled with random integers. Add a new column that is the product of the first two columns.\n",
    "2. Create a Pandas DataFrame with 3 columns and 4 rows filled with random integers. Compute the row-wise and column-wise sum.\n",
    "\n",
    "### Assignment 3: Data Cleaning\n",
    "\n",
    "1. Create a Pandas DataFrame with 3 columns and 5 rows filled with random integers. Introduce some NaN values. Fill the NaN values with the mean of the respective columns.\n",
    "2. Create a Pandas DataFrame with 4 columns and 6 rows filled with random integers. Introduce some NaN values. Drop the rows with any NaN values.\n",
    "\n",
    "### Assignment 4: Data Aggregation\n",
    "\n",
    "1. Create a Pandas DataFrame with 2 columns: 'Category' and 'Value'. Fill the 'Category' column with random categories ('A', 'B', 'C') and the 'Value' column with random integers. Group the DataFrame by 'Category' and compute the sum and mean of 'Value' for each category.\n",
    "2. Create a Pandas DataFrame with 3 columns: 'Product', 'Category', and 'Sales'. Fill the DataFrame with random data. Group the DataFrame by 'Category' and compute the total sales for each category.\n",
    "\n",
    "### Assignment 5: Merging DataFrames\n",
    "\n",
    "1. Create two Pandas DataFrames with a common column. Merge the DataFrames using the common column.\n",
    "2. Create two Pandas DataFrames with different columns. Concatenate the DataFrames along the rows and along the columns.\n",
    "\n",
    "### Assignment 6: Time Series Analysis\n",
    "\n",
    "1. Create a Pandas DataFrame with a datetime index and one column filled with random integers. Resample the DataFrame to compute the monthly mean of the values.\n",
    "2. Create a Pandas DataFrame with a datetime index ranging from '2021-01-01' to '2021-12-31' and one column filled with random integers. Compute the rolling mean with a window of 7 days.\n",
    "\n",
    "### Assignment 7: MultiIndex DataFrame\n",
    "\n",
    "1. Create a Pandas DataFrame with a MultiIndex (hierarchical index). Perform some basic indexing and slicing operations on the MultiIndex DataFrame.\n",
    "2. Create a Pandas DataFrame with MultiIndex consisting of 'Category' and 'SubCategory'. Fill the DataFrame with random data and compute the sum of values for each 'Category' and 'SubCategory'.\n",
    "\n",
    "### Assignment 8: Pivot Tables\n",
    "\n",
    "1. Create a Pandas DataFrame with columns 'Date', 'Category', and 'Value'. Create a pivot table to compute the sum of 'Value' for each 'Category' by 'Date'.\n",
    "2. Create a Pandas DataFrame with columns 'Year', 'Quarter', and 'Revenue'. Create a pivot table to compute the mean 'Revenue' for each 'Quarter' by 'Year'.\n",
    "\n",
    "### Assignment 9: Applying Functions\n",
    "\n",
    "1. Create a Pandas DataFrame with 3 columns and 5 rows filled with random integers. Apply a function that doubles the values of the DataFrame.\n",
    "2. Create a Pandas DataFrame with 3 columns and 6 rows filled with random integers. Apply a lambda function to create a new column that is the sum of the existing columns.\n",
    "\n",
    "### Assignment 10: Working with Text Data\n",
    "\n",
    "1. Create a Pandas Series with 5 random text strings. Convert all the strings to uppercase.\n",
    "2. Create a Pandas Series with 5 random text strings. Extract the first three characters of each string.\n"
   ]
  },
  {
   "cell_type": "code",
   "execution_count": 1,
   "metadata": {},
   "outputs": [
    {
     "name": "stdout",
     "output_type": "stream",
     "text": [
      "     B   C   D\n",
      "A             \n",
      "66  85  21  26\n",
      "50  24  72  17\n",
      "55  67  26  80\n",
      "67   7  20  29\n",
      "72  97  88  25\n",
      "92  32  38  41\n"
     ]
    }
   ],
   "source": [
    "\n",
    "import pandas as pd \n",
    "import numpy as np\n",
    "### Assignment 1: DataFrame Creation and Indexing\n",
    "\n",
    "# 1. Create a Pandas DataFrame with 4 columns and 6 rows filled with random integers. Set the index to be the first column.\n",
    "\n",
    "# Question 1\n",
    "\n",
    "df = pd.DataFrame(np.random.randint(1,100, size=(6,4)), columns=[\"A\", \"B\", \"C\", \"D\"])\n",
    "\n",
    "df.set_index(\"A\", inplace=True)\n",
    "print(df)\n",
    "\n"
   ]
  },
  {
   "cell_type": "code",
   "execution_count": 2,
   "id": "ad108783",
   "metadata": {},
   "outputs": [
    {
     "data": {
      "text/html": [
       "<div>\n",
       "<style scoped>\n",
       "    .dataframe tbody tr th:only-of-type {\n",
       "        vertical-align: middle;\n",
       "    }\n",
       "\n",
       "    .dataframe tbody tr th {\n",
       "        vertical-align: top;\n",
       "    }\n",
       "\n",
       "    .dataframe thead th {\n",
       "        text-align: right;\n",
       "    }\n",
       "</style>\n",
       "<table border=\"1\" class=\"dataframe\">\n",
       "  <thead>\n",
       "    <tr style=\"text-align: right;\">\n",
       "      <th></th>\n",
       "      <th>A</th>\n",
       "      <th>B</th>\n",
       "      <th>C</th>\n",
       "    </tr>\n",
       "  </thead>\n",
       "  <tbody>\n",
       "    <tr>\n",
       "      <th>X</th>\n",
       "      <td>5</td>\n",
       "      <td>4</td>\n",
       "      <td>5</td>\n",
       "    </tr>\n",
       "    <tr>\n",
       "      <th>Y</th>\n",
       "      <td>5</td>\n",
       "      <td>3</td>\n",
       "      <td>4</td>\n",
       "    </tr>\n",
       "    <tr>\n",
       "      <th>Z</th>\n",
       "      <td>9</td>\n",
       "      <td>6</td>\n",
       "      <td>9</td>\n",
       "    </tr>\n",
       "  </tbody>\n",
       "</table>\n",
       "</div>"
      ],
      "text/plain": [
       "   A  B  C\n",
       "X  5  4  5\n",
       "Y  5  3  4\n",
       "Z  9  6  9"
      ]
     },
     "execution_count": 2,
     "metadata": {},
     "output_type": "execute_result"
    }
   ],
   "source": [
    "# df.describe()\n",
    "# 2. Create a Pandas DataFrame with columns 'A', 'B', 'C' and index 'X', 'Y', 'Z'. Fill the DataFrame with random integers and access the element at row 'Y' and column 'B'.\n",
    "\n",
    "df3 = pd.DataFrame(np.random.randint(1,10, size=(3,3)), columns=['A', 'B', 'C'], index=['X', 'Y', 'Z'])\n",
    "df3\n"
   ]
  },
  {
   "cell_type": "code",
   "execution_count": 3,
   "id": "292edd27",
   "metadata": {},
   "outputs": [
    {
     "name": "stdout",
     "output_type": "stream",
     "text": [
      "    A  B   C\n",
      "0  16  1   5\n",
      "1   9  6  13\n",
      "2   8  3  11\n",
      "3  18  2  14 \n",
      "\n",
      "Column Sum \n",
      " A    51\n",
      "B    12\n",
      "C    43\n",
      "dtype: int64 Row Sum \n",
      " 0    22\n",
      "1    28\n",
      "2    22\n",
      "3    34\n",
      "dtype: int64\n"
     ]
    }
   ],
   "source": [
    "### Assignment 2: DataFrame Operations\n",
    "\n",
    "# 1. Create a Pandas DataFrame with 3 columns and 5 rows filled with random integers. Add a new column that is the product of the first two columns.\n",
    "df35 = pd.DataFrame(np.random.randint(1,10, size=(5,3)), columns=list('ABC'))\n",
    "df35['D'] = df35['A']* df35['B']\n",
    "# df35\n",
    "# 2. Create a Pandas DataFrame with 3 columns and 4 rows filled with random integers. Compute the row-wise and column-wise sum.\n",
    "df43 = pd.DataFrame(np.random.randint(1,20, size=(4,3)), columns=list('ABC'))\n",
    "print(df43, '\\n')\n",
    "print('Column Sum \\n', df43.sum(axis=0), 'Row Sum \\n', df43.sum(axis=1))"
   ]
  },
  {
   "cell_type": "code",
   "execution_count": 4,
   "id": "d978deeb",
   "metadata": {},
   "outputs": [
    {
     "name": "stdout",
     "output_type": "stream",
     "text": [
      "      A     B     C\n",
      "0  75.0   NaN  32.0\n",
      "1  88.0  44.0  69.0\n",
      "2   1.0   NaN   NaN\n",
      "3   NaN   9.0  20.0\n",
      "4  43.0  56.0  12.0\n",
      "A    51.750000\n",
      "B    36.333333\n",
      "C    33.250000\n",
      "dtype: float64\n"
     ]
    },
    {
     "data": {
      "text/html": [
       "<div>\n",
       "<style scoped>\n",
       "    .dataframe tbody tr th:only-of-type {\n",
       "        vertical-align: middle;\n",
       "    }\n",
       "\n",
       "    .dataframe tbody tr th {\n",
       "        vertical-align: top;\n",
       "    }\n",
       "\n",
       "    .dataframe thead th {\n",
       "        text-align: right;\n",
       "    }\n",
       "</style>\n",
       "<table border=\"1\" class=\"dataframe\">\n",
       "  <thead>\n",
       "    <tr style=\"text-align: right;\">\n",
       "      <th></th>\n",
       "      <th>A</th>\n",
       "      <th>B</th>\n",
       "      <th>C</th>\n",
       "    </tr>\n",
       "  </thead>\n",
       "  <tbody>\n",
       "    <tr>\n",
       "      <th>0</th>\n",
       "      <td>75.00</td>\n",
       "      <td>36.333333</td>\n",
       "      <td>32.00</td>\n",
       "    </tr>\n",
       "    <tr>\n",
       "      <th>1</th>\n",
       "      <td>88.00</td>\n",
       "      <td>44.000000</td>\n",
       "      <td>69.00</td>\n",
       "    </tr>\n",
       "    <tr>\n",
       "      <th>2</th>\n",
       "      <td>1.00</td>\n",
       "      <td>36.333333</td>\n",
       "      <td>33.25</td>\n",
       "    </tr>\n",
       "    <tr>\n",
       "      <th>3</th>\n",
       "      <td>51.75</td>\n",
       "      <td>9.000000</td>\n",
       "      <td>20.00</td>\n",
       "    </tr>\n",
       "    <tr>\n",
       "      <th>4</th>\n",
       "      <td>43.00</td>\n",
       "      <td>56.000000</td>\n",
       "      <td>12.00</td>\n",
       "    </tr>\n",
       "  </tbody>\n",
       "</table>\n",
       "</div>"
      ],
      "text/plain": [
       "       A          B      C\n",
       "0  75.00  36.333333  32.00\n",
       "1  88.00  44.000000  69.00\n",
       "2   1.00  36.333333  33.25\n",
       "3  51.75   9.000000  20.00\n",
       "4  43.00  56.000000  12.00"
      ]
     },
     "execution_count": 4,
     "metadata": {},
     "output_type": "execute_result"
    }
   ],
   "source": [
    "### Assignment 3: Data Cleaning\n",
    "\n",
    "# 1. Create a Pandas DataFrame with 3 columns and 5 rows filled with random integers. Introduce some NaN values. Fill the NaN values with the mean of the respective columns.\n",
    "a3q1 = pd.DataFrame(np.random.randint(1,100, size=(5,3)), columns=list('ABC'))\n",
    "a3q1.iloc[0,1] = np.nan\n",
    "a3q1.iloc[2,1] = np.nan\n",
    "a3q1.iloc[3,0] = np.nan\n",
    "a3q1.iloc[2,2] = np.nan\n",
    "# print(a3q1)\n",
    "# print(a3q1.mean())\n",
    "# a3q1.iloc[0,1] = a3q1.mean()['B']\n",
    "# a3q1.iloc[3,0] = a3q1.mean()['A']\n",
    "# a3q1.iloc[2,2] = a3q1.mean()['C']\n",
    "# print(a3q1)\n",
    "print(a3q1)\n",
    "print(a3q1.mean())\n",
    "a3q1.fillna(a3q1.mean(), inplace=True)\n",
    "a3q1"
   ]
  },
  {
   "cell_type": "code",
   "execution_count": 5,
   "id": "bb925376",
   "metadata": {},
   "outputs": [
    {
     "data": {
      "text/html": [
       "<div>\n",
       "<style scoped>\n",
       "    .dataframe tbody tr th:only-of-type {\n",
       "        vertical-align: middle;\n",
       "    }\n",
       "\n",
       "    .dataframe tbody tr th {\n",
       "        vertical-align: top;\n",
       "    }\n",
       "\n",
       "    .dataframe thead th {\n",
       "        text-align: right;\n",
       "    }\n",
       "</style>\n",
       "<table border=\"1\" class=\"dataframe\">\n",
       "  <thead>\n",
       "    <tr style=\"text-align: right;\">\n",
       "      <th></th>\n",
       "      <th>A</th>\n",
       "      <th>B</th>\n",
       "      <th>C</th>\n",
       "      <th>D</th>\n",
       "    </tr>\n",
       "  </thead>\n",
       "  <tbody>\n",
       "    <tr>\n",
       "      <th>0</th>\n",
       "      <td>97</td>\n",
       "      <td>5.0</td>\n",
       "      <td>79.0</td>\n",
       "      <td>9.0</td>\n",
       "    </tr>\n",
       "    <tr>\n",
       "      <th>5</th>\n",
       "      <td>89</td>\n",
       "      <td>51.0</td>\n",
       "      <td>71.0</td>\n",
       "      <td>92.0</td>\n",
       "    </tr>\n",
       "  </tbody>\n",
       "</table>\n",
       "</div>"
      ],
      "text/plain": [
       "    A     B     C     D\n",
       "0  97   5.0  79.0   9.0\n",
       "5  89  51.0  71.0  92.0"
      ]
     },
     "execution_count": 5,
     "metadata": {},
     "output_type": "execute_result"
    }
   ],
   "source": [
    "# 2. Create a Pandas DataFrame with 4 columns and 6 rows filled with random integers. Introduce some NaN values. Drop the rows with any NaN values.\n",
    "a3q2 = pd.DataFrame(np.random.randint(1,100, size=(6,4)), columns=list('ABCD'))\n",
    "a3q2.iloc[1,1] = np.nan\n",
    "a3q2.iloc[2,2] = np.nan\n",
    "a3q2.iloc[3,3] = np.nan\n",
    "a3q2.iloc[4,2] = np.nan\n",
    "a3q2.dropna(inplace=True)\n",
    "a3q2\n"
   ]
  },
  {
   "cell_type": "code",
   "execution_count": 6,
   "id": "61c5b54d",
   "metadata": {},
   "outputs": [
    {
     "data": {
      "text/html": [
       "<div>\n",
       "<style scoped>\n",
       "    .dataframe tbody tr th:only-of-type {\n",
       "        vertical-align: middle;\n",
       "    }\n",
       "\n",
       "    .dataframe tbody tr th {\n",
       "        vertical-align: top;\n",
       "    }\n",
       "\n",
       "    .dataframe thead th {\n",
       "        text-align: right;\n",
       "    }\n",
       "</style>\n",
       "<table border=\"1\" class=\"dataframe\">\n",
       "  <thead>\n",
       "    <tr style=\"text-align: right;\">\n",
       "      <th></th>\n",
       "      <th>Name</th>\n",
       "      <th>Age</th>\n",
       "      <th>Salary</th>\n",
       "    </tr>\n",
       "  </thead>\n",
       "  <tbody>\n",
       "    <tr>\n",
       "      <th>0</th>\n",
       "      <td>Ankur</td>\n",
       "      <td>25</td>\n",
       "      <td>0</td>\n",
       "    </tr>\n",
       "    <tr>\n",
       "      <th>1</th>\n",
       "      <td>Sunny</td>\n",
       "      <td>29</td>\n",
       "      <td>30000</td>\n",
       "    </tr>\n",
       "    <tr>\n",
       "      <th>2</th>\n",
       "      <td>Vivek</td>\n",
       "      <td>32</td>\n",
       "      <td>32400</td>\n",
       "    </tr>\n",
       "    <tr>\n",
       "      <th>3</th>\n",
       "      <td>Matroo</td>\n",
       "      <td>55</td>\n",
       "      <td>55000</td>\n",
       "    </tr>\n",
       "    <tr>\n",
       "      <th>4</th>\n",
       "      <td>Kanchan</td>\n",
       "      <td>53</td>\n",
       "      <td>1000000</td>\n",
       "    </tr>\n",
       "  </tbody>\n",
       "</table>\n",
       "</div>"
      ],
      "text/plain": [
       "      Name  Age   Salary\n",
       "0    Ankur   25        0\n",
       "1    Sunny   29    30000\n",
       "2    Vivek   32    32400\n",
       "3   Matroo   55    55000\n",
       "4  Kanchan   53  1000000"
      ]
     },
     "execution_count": 6,
     "metadata": {},
     "output_type": "execute_result"
    }
   ],
   "source": [
    "### Assignment 5: Merging DataFrames\n",
    "\n",
    "# 1. Create two Pandas DataFrames with a common column. Merge the DataFrames using the common column.\n",
    "a5q1 = pd.DataFrame({\"Name\":[\"Ankur\", \"Sunny\", \"Vivek\", \"Matroo\", \"Kanchan\"], \"Age\":[25, 29, 32, 55, 53]})\n",
    "a5q1_2 = pd.DataFrame({\"Name\":[\"Ankur\", \"Sunny\", \"Vivek\", \"Matroo\", \"Kanchan\"], \"Salary\":[0, 30000, 32400, 55000, 1000000]})\n",
    "pd.merge(a5q1,a5q1_2,on='Name')\n",
    "\n"
   ]
  },
  {
   "cell_type": "code",
   "execution_count": 7,
   "id": "15f8dff7",
   "metadata": {},
   "outputs": [
    {
     "name": "stdout",
     "output_type": "stream",
     "text": [
      "    Family  weight      abc       chsu\n",
      "0    Ankur    60.0      NaN        NaN\n",
      "1    Sunny    70.0      NaN        NaN\n",
      "2    Vivek    20.0      NaN        NaN\n",
      "3   Matroo    40.0      NaN        NaN\n",
      "4  Kanchan    70.0      NaN        NaN\n",
      "5   Aayusi    80.0      NaN        NaN\n",
      "0      NaN     NaN      bsf       cscs\n",
      "1      NaN     NaN     njsa       dhsi\n",
      "2      NaN     NaN     jdsh    csdcies\n",
      "3      NaN     NaN  xkjdwhi      skjac\n",
      "4      NaN     NaN     cdic     dsagca\n",
      "5      NaN     NaN   jdsaha  cnsajciau \n",
      "\n",
      "    Family  weight      abc       chsu\n",
      "0    Ankur      60      bsf       cscs\n",
      "1    Sunny      70     njsa       dhsi\n",
      "2    Vivek      20     jdsh    csdcies\n",
      "3   Matroo      40  xkjdwhi      skjac\n",
      "4  Kanchan      70     cdic     dsagca\n",
      "5   Aayusi      80   jdsaha  cnsajciau\n"
     ]
    }
   ],
   "source": [
    "# 2. Create two Pandas DataFrames with different columns. Concatenate the DataFrames along the rows and along the columns\n",
    "a5q2_a = pd.DataFrame({\"Family\":[\"Ankur\", \"Sunny\", \"Vivek\", \"Matroo\", \"Kanchan\", \"Aayusi\"],'weight':[60,70,20,40,70,80]})\n",
    "a5q2_b = pd.DataFrame({\"abc\":[\"bsf\", \"njsa\", \"jdsh\", \"xkjdwhi\", \"cdic\", \"jdsaha\"],'chsu':['cscs','dhsi','csdcies','skjac','dsagca','cnsajciau']})\n",
    "print(pd.concat([a5q2_a, a5q2_b], axis=0),'\\n')\n",
    "print(pd.concat([a5q2_a, a5q2_b], axis=1))"
   ]
  },
  {
   "cell_type": "code",
   "execution_count": 8,
   "id": "54df67b3",
   "metadata": {},
   "outputs": [
    {
     "data": {
      "text/plain": [
       "date\n",
       "2025-07-16 08:49:53.062269    81.0\n",
       "2025-07-17 08:49:53.062269    46.0\n",
       "2025-07-18 08:49:53.062269     4.0\n",
       "2025-07-19 08:49:53.062269    23.0\n",
       "2025-07-20 08:49:53.062269    52.0\n",
       "                              ... \n",
       "2026-08-16 08:49:53.062269    34.0\n",
       "2026-08-17 08:49:53.062269    48.0\n",
       "2026-08-18 08:49:53.062269    22.0\n",
       "2026-08-19 08:49:53.062269    81.0\n",
       "2026-08-20 08:49:53.062269    89.0\n",
       "Name: numbers, Length: 401, dtype: float64"
      ]
     },
     "execution_count": 8,
     "metadata": {},
     "output_type": "execute_result"
    }
   ],
   "source": [
    "### Assignment 6: Time Series Analysis\n",
    "\n",
    "# 1. Create a Pandas DataFrame with a datetime index and one column filled with random integers. Resample the DataFrame to compute the monthly mean of the values.\n",
    "from datetime import datetime, timedelta\n",
    "date_today = datetime.now()\n",
    "days = pd.date_range(date_today,date_today + timedelta(400),freq='D')\n",
    "df = pd.DataFrame(days, columns=['date'])\n",
    "df['numbers'] = np.random.randint(1,100, size=(len(days)))\n",
    "# df.set_index('date', inplace=True)\n",
    "# print(df)\n",
    "# monthely_mean = df.resample('M').mean()\n",
    "# print(monthely_mean)\n",
    "# df['year_month'] = df['date'].dt.to_period('M')\n",
    "monthely_mean = df.groupby('date')['numbers'].mean()\n",
    "monthely_mean"
   ]
  },
  {
   "cell_type": "code",
   "execution_count": 9,
   "id": "c058d3eb",
   "metadata": {},
   "outputs": [
    {
     "data": {
      "text/plain": [
       "date\n",
       "2021-01-01     NaN\n",
       "2021-01-02     NaN\n",
       "2021-01-03     NaN\n",
       "2021-01-04     NaN\n",
       "2021-01-05     NaN\n",
       "              ... \n",
       "2021-12-27    91.0\n",
       "2021-12-28    91.0\n",
       "2021-12-29    89.0\n",
       "2021-12-30    89.0\n",
       "2021-12-31    89.0\n",
       "Name: numbers, Length: 365, dtype: float64"
      ]
     },
     "execution_count": 9,
     "metadata": {},
     "output_type": "execute_result"
    }
   ],
   "source": [
    "# 2. Create a Pandas DataFrame with a datetime index ranging from '2021-01-01' to '2021-12-31' and one column filled with random integers. Compute the rolling mean with a window of 7 days.\n",
    "\n",
    "time_today_1 = datetime.today()\n",
    "timerange = pd.date_range('2021-01-01', '2021-12-31')\n",
    "df_1 = pd.DataFrame(timerange, columns=['date'])\n",
    "df_1['numbers'] = np.random.randint(1,100, size=(len(timerange)))\n",
    "df_1.set_index('date', inplace=True)\n",
    "roaling_mean = df_1['numbers'].rolling(window=7).max()\n",
    "roaling_mean"
   ]
  },
  {
   "cell_type": "code",
   "execution_count": null,
   "id": "f60ebd16",
   "metadata": {},
   "outputs": [
    {
     "name": "stdout",
     "output_type": "stream",
     "text": [
      "<itertools.product object at 0x71ceeaec8640>\n"
     ]
    },
    {
     "ename": "SyntaxError",
     "evalue": "'return' outside function (414684973.py, line 11)",
     "output_type": "error",
     "traceback": [
      "\u001b[0;36m  Cell \u001b[0;32mIn[28], line 11\u001b[0;36m\u001b[0m\n\u001b[0;31m    return\u001b[0m\n\u001b[0m    ^\u001b[0m\n\u001b[0;31mSyntaxError\u001b[0m\u001b[0;31m:\u001b[0m 'return' outside function\n"
     ]
    }
   ],
   "source": [
    "### Assignment 7: MultiIndex DataFrame\n",
    "\n",
    "# 1. Create a Pandas DataFrame with a MultiIndex (hierarchical index). Perform some basic indexing and slicing operations on the MultiIndex DataFrame.\n",
    "from itertools import product\n",
    "\n",
    "regions = ['UP', 'MP', 'DL']\n",
    "years = ['2020', '2021', '2022']\n",
    "# test = list(zip(regions, years))\n",
    "# test\n",
    "print(product(regions, years))\n",
    "# return\n",
    "index = pd.MultiIndex.from_tuples(\n",
    "    list(product(regions, years)),\n",
    "    names=['Region', 'Year']\n",
    ")\n",
    "df = pd.DataFrame(\n",
    "    np.random.randint(1, 100, size=(9, 3)),\n",
    "    index=index,\n",
    "    columns=['Value1', 'Value2', 'Value3']\n",
    ")\n",
    "print(df)\n",
    "print(df.loc['UP'], '\\n')\n",
    "# print(df.xs('2020', level='Years'))\n",
    "# Get specific cell: DL in 2022, column Value1 \n",
    "# print(df.loc[('DL', '2022'), 'Value1'])\n",
    "\n"
   ]
  },
  {
   "cell_type": "code",
   "execution_count": null,
   "id": "d5204d38",
   "metadata": {},
   "outputs": [],
   "source": [
    "# 2. Create a Pandas DataFrame with MultiIndex consisting of 'Category' and 'SubCategory'. Fill the DataFrame with random data and compute the sum of values for each 'Category' and 'SubCategory'."
   ]
  }
 ],
 "metadata": {
  "kernelspec": {
   "display_name": ".env",
   "language": "python",
   "name": "python3"
  },
  "language_info": {
   "codemirror_mode": {
    "name": "ipython",
    "version": 3
   },
   "file_extension": ".py",
   "mimetype": "text/x-python",
   "name": "python",
   "nbconvert_exporter": "python",
   "pygments_lexer": "ipython3",
   "version": "3.10.12"
  }
 },
 "nbformat": 4,
 "nbformat_minor": 5
}
