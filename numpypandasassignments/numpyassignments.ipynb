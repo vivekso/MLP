{
 "cells": [
  {
   "cell_type": "markdown",
   "metadata": {},
   "source": [
    "# Module: NumPy Assignments\n",
    "## Lesson: NumPy\n",
    "### Assignment 1: Array Creation and Manipulation\n",
    "\n",
    "1. Create a NumPy array of shape (5, 5) filled with random integers between 1 and 20. Replace all the elements in the third column with 1.\n",
    "2. Create a NumPy array of shape (4, 4) with values from 1 to 16. Replace the diagonal elements with 0.\n",
    "\n",
    "### Assignment 2: Array Indexing and Slicing\n",
    "\n",
    "1. Create a NumPy array of shape (6, 6) with values from 1 to 36. Extract the sub-array consisting of the 3rd to 5th rows and 2nd to 4th columns.\n",
    "2. Create a NumPy array of shape (5, 5) with random integers. Extract the elements on the border.\n",
    "\n",
    "### Assignment 3: Array Operations\n",
    "\n",
    "1. Create two NumPy arrays of shape (3, 4) filled with random integers. Perform element-wise addition, subtraction, multiplication, and division.\n",
    "2. Create a NumPy array of shape (4, 4) with values from 1 to 16. Compute the row-wise and column-wise sum.\n",
    "\n",
    "### Assignment 4: Statistical Operations\n",
    "\n",
    "1. Create a NumPy array of shape (5, 5) filled with random integers. Compute the mean, median, standard deviation, and variance of the array.\n",
    "2. Create a NumPy array of shape (3, 3) with values from 1 to 9. Normalize the array (i.e., scale the values to have a mean of 0 and a standard deviation of 1).\n",
    "\n",
    "### Assignment 5: Broadcasting\n",
    "\n",
    "1. Create a NumPy array of shape (3, 3) filled with random integers. Add a 1D array of shape (3,) to each row of the 2D array using broadcasting.\n",
    "2. Create a NumPy array of shape (4, 4) filled with random integers. Subtract a 1D array of shape (4,) from each column of the 2D array using broadcasting.\n",
    "\n",
    "### Assignment 6: Linear Algebra\n",
    "\n",
    "1. Create a NumPy array of shape (3, 3) representing a matrix. Compute its determinant, inverse, and eigenvalues.\n",
    "2. Create two NumPy arrays of shape (2, 3) and (3, 2). Perform matrix multiplication on these arrays.\n",
    "\n",
    "### Assignment 7: Advanced Array Manipulation\n",
    "\n",
    "1. Create a NumPy array of shape (3, 3) with values from 1 to 9. Reshape the array to shape (1, 9) and then to shape (9, 1).\n",
    "2. Create a NumPy array of shape (5, 5) filled with random integers. Flatten the array and then reshape it back to (5, 5).\n",
    "\n",
    "### Assignment 8: Fancy Indexing and Boolean Indexing\n",
    "\n",
    "1. Create a NumPy array of shape (5, 5) filled with random integers. Use fancy indexing to extract the elements at the corners of the array.\n",
    "2. Create a NumPy array of shape (4, 4) filled with random integers. Use boolean indexing to set all elements greater than 10 to 10.\n",
    "\n",
    "### Assignment 9: Structured Arrays\n",
    "\n",
    "1. Create a structured array with fields 'name' (string), 'age' (integer), and 'weight' (float). Add some data and sort the array by age.\n",
    "2. Create a structured array with fields 'x' and 'y' (both integers). Add some data and compute the Euclidean distance between each pair of points.\n",
    "\n",
    "### Assignment 10: Masked Arrays\n",
    "\n",
    "1. Create a masked array of shape (4, 4) with random integers and mask the elements greater than 10. Compute the sum of the unmasked elements.\n",
    "2. Create a masked array of shape (3, 3) with random integers and mask the diagonal elements. Replace the masked elements with the mean of the unmasked elements."
   ]
  },
  {
   "cell_type": "code",
   "execution_count": 1,
   "id": "1597e7f9",
   "metadata": {},
   "outputs": [],
   "source": [
    "### Assignment 1: Array Creation and Manipulation\n",
    "\n",
    "### 1. Create a NumPy array of shape (5, 5) filled with random integers between 1 and 20. Replace all the elements in the third column with 1.\n",
    "### 2. Create a NumPy array of shape (4, 4) with values from 1 to 16. Replace the diagonal elements with 0.\n",
    "\n",
    "\n",
    "import numpy as np\n",
    "\n",
    "np_array = np.random.randint(1,21,(5,5))\n"
   ]
  },
  {
   "cell_type": "code",
   "execution_count": 2,
   "id": "ed0e694f",
   "metadata": {},
   "outputs": [
    {
     "name": "stdout",
     "output_type": "stream",
     "text": [
      "[[ 4 12  7  7  5]\n",
      " [ 6 13  5 18  7]\n",
      " [ 9 20  2 17 14]\n",
      " [18 15  3 13 17]\n",
      " [ 5  7  3 19  6]]\n"
     ]
    }
   ],
   "source": [
    "print(np_array)\n",
    "\n",
    "np_array[:,2] = 1"
   ]
  },
  {
   "cell_type": "code",
   "execution_count": 3,
   "id": "a4f871f1",
   "metadata": {},
   "outputs": [
    {
     "name": "stdout",
     "output_type": "stream",
     "text": [
      "[[ 4 12  1  7  5]\n",
      " [ 6 13  1 18  7]\n",
      " [ 9 20  1 17 14]\n",
      " [18 15  1 13 17]\n",
      " [ 5  7  1 19  6]]\n"
     ]
    }
   ],
   "source": [
    "print(np_array)"
   ]
  },
  {
   "cell_type": "code",
   "execution_count": 4,
   "id": "728094c9",
   "metadata": {},
   "outputs": [
    {
     "data": {
      "text/plain": [
       "array([[12, 12, 10,  4],\n",
       "       [ 3,  9, 15,  2],\n",
       "       [12, 14, 15,  6],\n",
       "       [14, 12,  8,  3]])"
      ]
     },
     "execution_count": 4,
     "metadata": {},
     "output_type": "execute_result"
    }
   ],
   "source": [
    "np_4_4_aray = np.random.randint(1,16,(4,4))\n",
    "np_4_4_aray"
   ]
  },
  {
   "cell_type": "code",
   "execution_count": 5,
   "id": "863596a1",
   "metadata": {},
   "outputs": [
    {
     "data": {
      "text/plain": [
       "array([[ 0, 12, 10,  4],\n",
       "       [ 3,  0, 15,  2],\n",
       "       [12, 14,  0,  6],\n",
       "       [14, 12,  8,  0]])"
      ]
     },
     "execution_count": 5,
     "metadata": {},
     "output_type": "execute_result"
    }
   ],
   "source": [
    "np.fill_diagonal(np_4_4_aray,0,wrap=True)\n",
    "np_4_4_aray"
   ]
  },
  {
   "cell_type": "code",
   "execution_count": 6,
   "id": "cef08771",
   "metadata": {},
   "outputs": [],
   "source": [
    "# Assignment 2: Array Indexing and Slicing\n",
    "\n",
    "# 1. Create a NumPy array of shape (6, 6) with values from 1 to 36. Extract the sub-array consisting of the 3rd to 5th rows and 2nd to 4th columns.\n",
    "# 2. Create a NumPy array of shape (5, 5) with random integers. Extract the elements on the border."
   ]
  },
  {
   "cell_type": "code",
   "execution_count": 7,
   "id": "b780bd25",
   "metadata": {},
   "outputs": [
    {
     "name": "stdout",
     "output_type": "stream",
     "text": [
      "Original Array \n",
      " [[ 1  2  3  4  5  6]\n",
      " [ 7  8  9 10 11 12]\n",
      " [13 14 15 16 17 18]\n",
      " [19 20 21 22 23 24]\n",
      " [25 26 27 28 29 30]\n",
      " [31 32 33 34 35 36]]\n",
      "Sub array \n",
      " [[14 15 16]\n",
      " [20 21 22]\n",
      " [26 27 28]]\n"
     ]
    }
   ],
   "source": [
    "np_6 = np.arange(1,37).reshape(6,6)\n",
    "print(\"Original Array \\n\",np_6)\n",
    "sub_array = np_6[2:5,1:4]\n",
    "print(\"Sub array \\n\",sub_array)"
   ]
  },
  {
   "cell_type": "code",
   "execution_count": 8,
   "id": "bd81d70c",
   "metadata": {},
   "outputs": [
    {
     "name": "stdout",
     "output_type": "stream",
     "text": [
      "5, 5 array \n",
      "\n",
      " [[ 2 77 78 42  3]\n",
      " [61 93 37 42 62]\n",
      " [ 5 81 60 41 95]\n",
      " [11 51 44 40 47]\n",
      " [61 66 17 71 26]]\n",
      "[ 2 77 78 42  3 62 95 47 26 71 17 66 61 11  5 61]\n"
     ]
    }
   ],
   "source": [
    "# (5,5) array\n",
    "np_5 = np.random.randint(1,100,(5,5))\n",
    "print(\"5, 5 array \\n\\n\", np_5)\n",
    "print(np.concatenate([np_5[0,:],np_5[1:-1,-1],np_5[-1,::-1], np_5[1:-1,0][::-1]]))"
   ]
  },
  {
   "cell_type": "code",
   "execution_count": 9,
   "id": "1616a606",
   "metadata": {},
   "outputs": [],
   "source": [
    "### Assignment 3: Array Operations\n",
    "\n",
    "# 1. Create two NumPy arrays of shape (3, 4) filled with random integers. Perform element-wise addition, subtraction, multiplication, and division.\n",
    "# 2. Create a NumPy array of shape (4, 4) with values from 1 to 16. Compute the row-wise and column-wise sum."
   ]
  },
  {
   "cell_type": "code",
   "execution_count": 10,
   "id": "1eec69f8",
   "metadata": {},
   "outputs": [
    {
     "name": "stdout",
     "output_type": "stream",
     "text": [
      "[[4 9 6 7]\n",
      " [3 9 3 8]\n",
      " [9 7 4 9]] \n",
      "\n",
      " [[6 2 4 5]\n",
      " [4 4 9 8]\n",
      " [7 3 8 5]]\n"
     ]
    }
   ],
   "source": [
    "# Create two array of shape (3,4)\n",
    "arr_1 = np.random.randint(1,10,(3,4))\n",
    "arr_2 = np.random.randint(1,10,(3,4))\n",
    "\n",
    "print(arr_1,'\\n\\n',arr_2)"
   ]
  },
  {
   "cell_type": "code",
   "execution_count": 11,
   "id": "bfbb31dd",
   "metadata": {},
   "outputs": [
    {
     "name": "stdout",
     "output_type": "stream",
     "text": [
      "[[24 18 24 35]\n",
      " [12 36 27 64]\n",
      " [63 21 32 45]]\n"
     ]
    }
   ],
   "source": [
    "array_sum = arr_1+arr_2\n",
    "array_diff = arr_1-arr_2\n",
    "array_multiply = arr_1*arr_2\n",
    "array_divide = arr_1/arr_2\n",
    "print(array_multiply)"
   ]
  },
  {
   "cell_type": "code",
   "execution_count": 12,
   "id": "a65d2ba8",
   "metadata": {},
   "outputs": [
    {
     "name": "stdout",
     "output_type": "stream",
     "text": [
      "[[4 1 1 9]\n",
      " [9 8 6 7]\n",
      " [7 6 7 1]\n",
      " [8 8 3 7]]\n",
      "row wise sum \n",
      " [15 30 21 26]\n",
      "Column wise sum \n",
      " [28 23 17 24]\n"
     ]
    }
   ],
   "source": [
    "# 4,4 array and row-wise and column wise sum.\n",
    "arr_3 = np.random.randint(1,10,(4,4))\n",
    "print(arr_3)\n",
    "print('row wise sum \\n', arr_3.sum(axis=1))\n",
    "print('Column wise sum \\n', arr_3.sum(axis=0))"
   ]
  },
  {
   "cell_type": "code",
   "execution_count": 13,
   "id": "063b7c1a",
   "metadata": {},
   "outputs": [
    {
     "name": "stdout",
     "output_type": "stream",
     "text": [
      "Mean --  5.88\n",
      "Median --  5.0\n",
      "Standerd Deviation --  2.3549097647256043\n",
      "Variance --  5.5456\n"
     ]
    }
   ],
   "source": [
    "### Assignment 4: Statistical Operations\n",
    "\n",
    "# 1. Create a NumPy array of shape (5, 5) filled with random integers. Compute the mean, median, standard deviation, and variance of the array.\n",
    "# 2. Create a NumPy array of shape (3, 3) with values from 1 to 9. Normalize the array (i.e., scale the values to have a mean of 0 and a standard deviation of 1).\n",
    "\n",
    "# 1 \n",
    "np_4 = np.random.randint(1,10,(5,5))\n",
    "print('Mean -- ',np.mean(np_4))\n",
    "print('Median -- ',np.median(np_4))\n",
    "print('Standerd Deviation -- ',np.std(np_4))\n",
    "print('Variance -- ',np.var(np_4))"
   ]
  },
  {
   "cell_type": "code",
   "execution_count": 14,
   "id": "8303b8d9",
   "metadata": {},
   "outputs": [],
   "source": [
    "# 2"
   ]
  },
  {
   "cell_type": "code",
   "execution_count": 15,
   "id": "12eefb6c",
   "metadata": {},
   "outputs": [
    {
     "name": "stdout",
     "output_type": "stream",
     "text": [
      "1.0\n"
     ]
    }
   ],
   "source": [
    "np_5 = np.arange(1,10).reshape(3,3)\n",
    "np5mean = np.mean(np_5)\n",
    "standerdDeviation = np.std(np_5)\n",
    "normalized_array = (np_5-np5mean)/standerdDeviation\n",
    "print(np.std(normalized_array))"
   ]
  },
  {
   "cell_type": "code",
   "execution_count": 16,
   "id": "494c319b",
   "metadata": {},
   "outputs": [
    {
     "name": "stdout",
     "output_type": "stream",
     "text": [
      "[[85  7 28]\n",
      " [22 60 24]\n",
      " [26 52 27]]\n",
      "[[86  9 31]\n",
      " [23 62 27]\n",
      " [27 54 30]]\n",
      "[[84  5 25]\n",
      " [21 58 21]\n",
      " [25 50 24]]\n"
     ]
    }
   ],
   "source": [
    "### Assignment 5: Broadcasting\n",
    "\n",
    "# 1. Create a NumPy array of shape (3, 3) filled with random integers. Add a 1D array of shape (3,) to each row of the 2D array using broadcasting.\n",
    "# 2. Create a NumPy array of shape (4, 4) filled with random integers. Subtract a 1D array of shape (4,) from each column of the 2D array using broadcasting.\n",
    "\n",
    "\n",
    "np_3_3 = np.random.randint(1,90,(3,3))\n",
    "add_arr = [1,2,3]\n",
    "print(np_3_3)\n",
    "print(np_3_3 + add_arr)\n",
    "\n",
    "# Subtract\n",
    "print(np_3_3 - add_arr)"
   ]
  },
  {
   "cell_type": "code",
   "execution_count": 17,
   "id": "bf31c8b1",
   "metadata": {},
   "outputs": [
    {
     "name": "stdout",
     "output_type": "stream",
     "text": [
      "determinant ->  20182.000000000007 \n",
      "\n",
      "Inverse --- [[ 0.01843227  0.06277871 -0.07491824]\n",
      " [ 0.00148647  0.07764344 -0.07055792]\n",
      " [-0.02061243 -0.2099891   0.24506986]] \n",
      "\n",
      "Eigen Value  [112.28200619  56.5388741    3.17911972] \n",
      "\n"
     ]
    }
   ],
   "source": [
    "### Assignment 6: Linear Algebra\n",
    "\n",
    "# 1. Create a NumPy array of shape (3, 3) representing a matrix. Compute its determinant, inverse, and eigenvalues.\n",
    "# 2. Create two NumPy arrays of shape (2, 3) and (3, 2). Perform matrix multiplication on these arrays.\n",
    "\n",
    "determinant = np.linalg.det(np_3_3)\n",
    "inverse = np.linalg.inv(np_3_3)\n",
    "eigenvalues = np.linalg.eigvals(np_3_3)\n",
    "print(\"determinant -> \",determinant,'\\n')\n",
    "print(\"Inverse ---\",inverse,'\\n')\n",
    "print(\"Eigen Value \",eigenvalues,'\\n')"
   ]
  },
  {
   "cell_type": "code",
   "execution_count": 18,
   "id": "f8020c26",
   "metadata": {},
   "outputs": [
    {
     "name": "stdout",
     "output_type": "stream",
     "text": [
      "[[22 28]\n",
      " [49 64]]\n"
     ]
    }
   ],
   "source": [
    "a23 = np.arange(1,7).reshape(2,3)\n",
    "a32 = np.arange(1,7).reshape(3,2)\n",
    "\n",
    "multiply = np.dot(a23,a32)\n",
    "\n",
    "print(multiply)\n"
   ]
  },
  {
   "cell_type": "code",
   "execution_count": 19,
   "id": "22282755",
   "metadata": {},
   "outputs": [
    {
     "name": "stdout",
     "output_type": "stream",
     "text": [
      "[[1 8 1 9 4]\n",
      " [2 7 3 9 4]\n",
      " [3 5 9 6 9]\n",
      " [6 2 9 1 8]\n",
      " [1 8 2 1 9]]\n"
     ]
    }
   ],
   "source": [
    "#  Assignment 7: Advanced Array Manipulation\n",
    "\n",
    "# 1. Create a NumPy array of shape (3, 3) with values from 1 to 9. Reshape the array to shape (1, 9) and then to shape (9, 1).\n",
    "# 2. Create a NumPy array of shape (5, 5) filled with random integers. Flatten the array and then reshape it back to (5, 5).\n",
    "a33 = np.arange(1,10).reshape(3,3)\n",
    "reshape_1x9 = a33.reshape(1,9)\n",
    "reshape_9x1 = a33.reshape(9,1)\n",
    "arr_5X5 = np.random.randint(1,10,(5,5))\n",
    "flatten = arr_5X5.flatten()\n",
    "reshapeback = flatten.reshape(5,5)\n",
    "print(reshapeback)"
   ]
  },
  {
   "cell_type": "code",
   "execution_count": null,
   "id": "85b2ad78",
   "metadata": {},
   "outputs": [
    {
     "name": "stdout",
     "output_type": "stream",
     "text": [
      "Bool Mask\n",
      " [[False  True  True False False]\n",
      " [False False False  True  True]\n",
      " [ True  True  True  True False]\n",
      " [ True False  True False  True]\n",
      " [False False False False False]]\n"
     ]
    }
   ],
   "source": [
    "# Assignment 8: Fancy Indexing and Boolean Indexing\n",
    "\n",
    "# 1. Create a NumPy array of shape (5, 5) filled with random integers. Use fancy indexing to extract the elements at the corners of the array.\n",
    "# 2. Create a NumPy array of shape (4, 4) filled with random integers. Use boolean indexing to set all elements greater than 10 to 10.\n",
    "a_5X5 = np.random.randint(1,10,(5,5))\n",
    "# print(a_5X5)\n",
    "# print(a_5X5[[0,0,-1,-1],[0,-1,0,-1]])\n",
    "a_5X5[a_5X5>7] = 7\n",
    "# print(\"Boolean indexing\",a_5X5)\n",
    "boolMask = a_5X5 > 5\n",
    "# print(\"Bool Mask\\n\",boolMask)"
   ]
  },
  {
   "cell_type": "code",
   "execution_count": null,
   "id": "4f3d6a00",
   "metadata": {},
   "outputs": [
    {
     "ename": "AttributeError",
     "evalue": "module 'numpy' has no attribute 'basicDetail'",
     "output_type": "error",
     "traceback": [
      "\u001b[0;31m---------------------------------------------------------------------------\u001b[0m",
      "\u001b[0;31mAttributeError\u001b[0m                            Traceback (most recent call last)",
      "Cell \u001b[0;32mIn[48], line 5\u001b[0m\n\u001b[1;32m      1\u001b[0m \u001b[38;5;66;03m### Assignment 9: Structured Arrays\u001b[39;00m\n\u001b[1;32m      2\u001b[0m \n\u001b[1;32m      3\u001b[0m \u001b[38;5;66;03m# 1. Create a structured array with fields 'name' (string), 'age' (integer), and 'weight' (float). Add some data and sort the array by age.\u001b[39;00m\n\u001b[1;32m      4\u001b[0m \u001b[38;5;66;03m# 2. Create a structured array with fields 'x' and 'y' (both integers). Add some data and compute the Euclidean distance between each pair of points.\u001b[39;00m\n\u001b[0;32m----> 5\u001b[0m strArr \u001b[38;5;241m=\u001b[39m \u001b[43mnp\u001b[49m\u001b[38;5;241;43m.\u001b[39;49m\u001b[43mbasicDetail\u001b[49m([\n\u001b[1;32m      6\u001b[0m     (\u001b[38;5;124m'\u001b[39m\u001b[38;5;124mname\u001b[39m\u001b[38;5;124m'\u001b[39m, \u001b[38;5;124m'\u001b[39m\u001b[38;5;124mU10\u001b[39m\u001b[38;5;124m'\u001b[39m),\n\u001b[1;32m      7\u001b[0m     (\u001b[38;5;124m'\u001b[39m\u001b[38;5;124mage\u001b[39m\u001b[38;5;124m'\u001b[39m, \u001b[38;5;124m'\u001b[39m\u001b[38;5;124mi4\u001b[39m\u001b[38;5;124m'\u001b[39m),\n\u001b[1;32m      8\u001b[0m     (\u001b[38;5;124m'\u001b[39m\u001b[38;5;124mweight\u001b[39m\u001b[38;5;124m'\u001b[39m, \u001b[38;5;124m'\u001b[39m\u001b[38;5;124mf8\u001b[39m\u001b[38;5;124m'\u001b[39m)\n\u001b[1;32m      9\u001b[0m ])\n\u001b[1;32m     11\u001b[0m basicData \u001b[38;5;241m=\u001b[39m np\u001b[38;5;241m.\u001b[39marray([\n\u001b[1;32m     12\u001b[0m     (\u001b[38;5;124m'\u001b[39m\u001b[38;5;124mVivek\u001b[39m\u001b[38;5;124m'\u001b[39m,\u001b[38;5;241m28\u001b[39m,\u001b[38;5;241m64.5\u001b[39m),\n\u001b[1;32m     13\u001b[0m     (\u001b[38;5;124m'\u001b[39m\u001b[38;5;124mSunny\u001b[39m\u001b[38;5;124m'\u001b[39m,\u001b[38;5;241m29\u001b[39m,\u001b[38;5;241m50.56\u001b[39m)\n\u001b[1;32m     14\u001b[0m ], dtype \u001b[38;5;241m=\u001b[39m basicDetail)\n\u001b[1;32m     15\u001b[0m \u001b[38;5;28mprint\u001b[39m(basicData)\n",
      "File \u001b[0;32m~/digital_frog/MLP/udemy_practise/.env/lib/python3.10/site-packages/numpy/__init__.py:414\u001b[0m, in \u001b[0;36m__getattr__\u001b[0;34m(attr)\u001b[0m\n\u001b[1;32m    411\u001b[0m     \u001b[38;5;28;01mimport\u001b[39;00m\u001b[38;5;250m \u001b[39m\u001b[38;5;21;01mnumpy\u001b[39;00m\u001b[38;5;21;01m.\u001b[39;00m\u001b[38;5;21;01mchar\u001b[39;00m\u001b[38;5;250m \u001b[39m\u001b[38;5;28;01mas\u001b[39;00m\u001b[38;5;250m \u001b[39m\u001b[38;5;21;01mchar\u001b[39;00m\n\u001b[1;32m    412\u001b[0m     \u001b[38;5;28;01mreturn\u001b[39;00m char\u001b[38;5;241m.\u001b[39mchararray\n\u001b[0;32m--> 414\u001b[0m \u001b[38;5;28;01mraise\u001b[39;00m \u001b[38;5;167;01mAttributeError\u001b[39;00m(\u001b[38;5;124m\"\u001b[39m\u001b[38;5;124mmodule \u001b[39m\u001b[38;5;132;01m{!r}\u001b[39;00m\u001b[38;5;124m has no attribute \u001b[39m\u001b[38;5;124m\"\u001b[39m\n\u001b[1;32m    415\u001b[0m                      \u001b[38;5;124m\"\u001b[39m\u001b[38;5;132;01m{!r}\u001b[39;00m\u001b[38;5;124m\"\u001b[39m\u001b[38;5;241m.\u001b[39mformat(\u001b[38;5;18m__name__\u001b[39m, attr))\n",
      "\u001b[0;31mAttributeError\u001b[0m: module 'numpy' has no attribute 'basicDetail'"
     ]
    }
   ],
   "source": [
    "### Assignment 9: Structured Arrays\n",
    "\n",
    "# 1. Create a structured array with fields 'name' (string), 'age' (integer), and 'weight' (float). Add some data and sort the array by age.\n",
    "# 2. Create a structured array with fields 'x' and 'y' (both integers). Add some data and compute the Euclidean distance between each pair of points.\n",
    "strArr = np.dtype([\n",
    "    ('name', 'U10'),\n",
    "    ('age', 'i4'),\n",
    "    ('weight', 'f8')\n",
    "])\n",
    "\n",
    "basicData = np.array([\n",
    "    ('Vivek',28,64.5),\n",
    "    ('Sunny',29,50.56)\n",
    "], dtype = strArr)\n",
    "print(basicData)\n"
   ]
  },
  {
   "cell_type": "code",
   "execution_count": null,
   "id": "07fa9e4c",
   "metadata": {},
   "outputs": [],
   "source": []
  }
 ],
 "metadata": {
  "kernelspec": {
   "display_name": ".env",
   "language": "python",
   "name": "python3"
  },
  "language_info": {
   "codemirror_mode": {
    "name": "ipython",
    "version": 3
   },
   "file_extension": ".py",
   "mimetype": "text/x-python",
   "name": "python",
   "nbconvert_exporter": "python",
   "pygments_lexer": "ipython3",
   "version": "3.10.12"
  }
 },
 "nbformat": 4,
 "nbformat_minor": 5
}
