{
 "cells": [
  {
   "cell_type": "markdown",
   "metadata": {},
   "source": [
    "# Module: NumPy Assignments\n",
    "## Lesson: NumPy\n",
    "### Assignment 1: Array Creation and Manipulation\n",
    "\n",
    "1. Create a NumPy array of shape (5, 5) filled with random integers between 1 and 20. Replace all the elements in the third column with 1.\n",
    "2. Create a NumPy array of shape (4, 4) with values from 1 to 16. Replace the diagonal elements with 0.\n",
    "\n",
    "### Assignment 2: Array Indexing and Slicing\n",
    "\n",
    "1. Create a NumPy array of shape (6, 6) with values from 1 to 36. Extract the sub-array consisting of the 3rd to 5th rows and 2nd to 4th columns.\n",
    "2. Create a NumPy array of shape (5, 5) with random integers. Extract the elements on the border.\n",
    "\n",
    "### Assignment 3: Array Operations\n",
    "\n",
    "1. Create two NumPy arrays of shape (3, 4) filled with random integers. Perform element-wise addition, subtraction, multiplication, and division.\n",
    "2. Create a NumPy array of shape (4, 4) with values from 1 to 16. Compute the row-wise and column-wise sum.\n",
    "\n",
    "### Assignment 4: Statistical Operations\n",
    "\n",
    "1. Create a NumPy array of shape (5, 5) filled with random integers. Compute the mean, median, standard deviation, and variance of the array.\n",
    "2. Create a NumPy array of shape (3, 3) with values from 1 to 9. Normalize the array (i.e., scale the values to have a mean of 0 and a standard deviation of 1).\n",
    "\n",
    "### Assignment 5: Broadcasting\n",
    "\n",
    "1. Create a NumPy array of shape (3, 3) filled with random integers. Add a 1D array of shape (3,) to each row of the 2D array using broadcasting.\n",
    "2. Create a NumPy array of shape (4, 4) filled with random integers. Subtract a 1D array of shape (4,) from each column of the 2D array using broadcasting.\n",
    "\n",
    "### Assignment 6: Linear Algebra\n",
    "\n",
    "1. Create a NumPy array of shape (3, 3) representing a matrix. Compute its determinant, inverse, and eigenvalues.\n",
    "2. Create two NumPy arrays of shape (2, 3) and (3, 2). Perform matrix multiplication on these arrays.\n",
    "\n",
    "### Assignment 7: Advanced Array Manipulation\n",
    "\n",
    "1. Create a NumPy array of shape (3, 3) with values from 1 to 9. Reshape the array to shape (1, 9) and then to shape (9, 1).\n",
    "2. Create a NumPy array of shape (5, 5) filled with random integers. Flatten the array and then reshape it back to (5, 5).\n",
    "\n",
    "### Assignment 8: Fancy Indexing and Boolean Indexing\n",
    "\n",
    "1. Create a NumPy array of shape (5, 5) filled with random integers. Use fancy indexing to extract the elements at the corners of the array.\n",
    "2. Create a NumPy array of shape (4, 4) filled with random integers. Use boolean indexing to set all elements greater than 10 to 10.\n",
    "\n",
    "### Assignment 9: Structured Arrays\n",
    "\n",
    "1. Create a structured array with fields 'name' (string), 'age' (integer), and 'weight' (float). Add some data and sort the array by age.\n",
    "2. Create a structured array with fields 'x' and 'y' (both integers). Add some data and compute the Euclidean distance between each pair of points.\n",
    "\n",
    "### Assignment 10: Masked Arrays\n",
    "\n",
    "1. Create a masked array of shape (4, 4) with random integers and mask the elements greater than 10. Compute the sum of the unmasked elements.\n",
    "2. Create a masked array of shape (3, 3) with random integers and mask the diagonal elements. Replace the masked elements with the mean of the unmasked elements."
   ]
  },
  {
   "cell_type": "code",
   "execution_count": 27,
   "id": "1597e7f9",
   "metadata": {},
   "outputs": [],
   "source": [
    "### Assignment 1: Array Creation and Manipulation\n",
    "\n",
    "### 1. Create a NumPy array of shape (5, 5) filled with random integers between 1 and 20. Replace all the elements in the third column with 1.\n",
    "### 2. Create a NumPy array of shape (4, 4) with values from 1 to 16. Replace the diagonal elements with 0.\n",
    "\n",
    "\n",
    "import numpy as np\n",
    "import matplotlib.pyplot as plt\n",
    "\n",
    "\n",
    "np_array = np.random.randint(1,21,(5,5))\n"
   ]
  },
  {
   "cell_type": "code",
   "execution_count": 2,
   "id": "ed0e694f",
   "metadata": {},
   "outputs": [
    {
     "name": "stdout",
     "output_type": "stream",
     "text": [
      "[[ 5 12 18 11  8]\n",
      " [ 5 18 20 12 12]\n",
      " [16  1  6  2 14]\n",
      " [18  1 13  2  3]\n",
      " [ 9  2 16  3 12]]\n"
     ]
    }
   ],
   "source": [
    "print(np_array)\n",
    "\n",
    "np_array[:,2] = 1"
   ]
  },
  {
   "cell_type": "code",
   "execution_count": 3,
   "id": "a4f871f1",
   "metadata": {},
   "outputs": [
    {
     "name": "stdout",
     "output_type": "stream",
     "text": [
      "[[ 5 12  1 11  8]\n",
      " [ 5 18  1 12 12]\n",
      " [16  1  1  2 14]\n",
      " [18  1  1  2  3]\n",
      " [ 9  2  1  3 12]]\n"
     ]
    }
   ],
   "source": [
    "print(np_array)"
   ]
  },
  {
   "cell_type": "code",
   "execution_count": 4,
   "id": "728094c9",
   "metadata": {},
   "outputs": [
    {
     "data": {
      "text/plain": [
       "array([[13, 14, 13,  6],\n",
       "       [ 8, 13,  5,  9],\n",
       "       [ 2,  8, 14,  9],\n",
       "       [ 7, 12,  5,  1]])"
      ]
     },
     "execution_count": 4,
     "metadata": {},
     "output_type": "execute_result"
    }
   ],
   "source": [
    "np_4_4_aray = np.random.randint(1,16,(4,4))\n",
    "np_4_4_aray"
   ]
  },
  {
   "cell_type": "code",
   "execution_count": 5,
   "id": "863596a1",
   "metadata": {},
   "outputs": [
    {
     "data": {
      "text/plain": [
       "array([[ 0, 14, 13,  6],\n",
       "       [ 8,  0,  5,  9],\n",
       "       [ 2,  8,  0,  9],\n",
       "       [ 7, 12,  5,  0]])"
      ]
     },
     "execution_count": 5,
     "metadata": {},
     "output_type": "execute_result"
    }
   ],
   "source": [
    "np.fill_diagonal(np_4_4_aray,0,wrap=True)\n",
    "np_4_4_aray"
   ]
  },
  {
   "cell_type": "code",
   "execution_count": 6,
   "id": "cef08771",
   "metadata": {},
   "outputs": [],
   "source": [
    "# Assignment 2: Array Indexing and Slicing\n",
    "\n",
    "# 1. Create a NumPy array of shape (6, 6) with values from 1 to 36. Extract the sub-array consisting of the 3rd to 5th rows and 2nd to 4th columns.\n",
    "# 2. Create a NumPy array of shape (5, 5) with random integers. Extract the elements on the border."
   ]
  },
  {
   "cell_type": "code",
   "execution_count": 7,
   "id": "b780bd25",
   "metadata": {},
   "outputs": [
    {
     "name": "stdout",
     "output_type": "stream",
     "text": [
      "Original Array \n",
      " [[ 1  2  3  4  5  6]\n",
      " [ 7  8  9 10 11 12]\n",
      " [13 14 15 16 17 18]\n",
      " [19 20 21 22 23 24]\n",
      " [25 26 27 28 29 30]\n",
      " [31 32 33 34 35 36]]\n",
      "Sub array \n",
      " [[14 15 16]\n",
      " [20 21 22]\n",
      " [26 27 28]]\n"
     ]
    }
   ],
   "source": [
    "np_6 = np.arange(1,37).reshape(6,6)\n",
    "print(\"Original Array \\n\",np_6)\n",
    "sub_array = np_6[2:5,1:4]\n",
    "print(\"Sub array \\n\",sub_array)"
   ]
  },
  {
   "cell_type": "code",
   "execution_count": 8,
   "id": "bd81d70c",
   "metadata": {},
   "outputs": [
    {
     "name": "stdout",
     "output_type": "stream",
     "text": [
      "5, 5 array \n",
      "\n",
      " [[47  1 31 65 59]\n",
      " [49 35 82 99 39]\n",
      " [55 44 16 92 90]\n",
      " [40 69  6 37 20]\n",
      " [27 34 60 71 16]]\n",
      "[47  1 31 65 59 39 90 20 16 71 60 34 27 40 55 49]\n"
     ]
    }
   ],
   "source": [
    "# (5,5) array\n",
    "np_5 = np.random.randint(1,100,(5,5))\n",
    "print(\"5, 5 array \\n\\n\", np_5)\n",
    "print(np.concatenate([np_5[0,:],np_5[1:-1,-1],np_5[-1,::-1], np_5[1:-1,0][::-1]]))"
   ]
  },
  {
   "cell_type": "code",
   "execution_count": 9,
   "id": "1616a606",
   "metadata": {},
   "outputs": [],
   "source": [
    "### Assignment 3: Array Operations\n",
    "\n",
    "# 1. Create two NumPy arrays of shape (3, 4) filled with random integers. Perform element-wise addition, subtraction, multiplication, and division.\n",
    "# 2. Create a NumPy array of shape (4, 4) with values from 1 to 16. Compute the row-wise and column-wise sum."
   ]
  },
  {
   "cell_type": "code",
   "execution_count": 10,
   "id": "1eec69f8",
   "metadata": {},
   "outputs": [
    {
     "name": "stdout",
     "output_type": "stream",
     "text": [
      "[[5 9 2 8]\n",
      " [2 2 4 9]\n",
      " [9 8 7 7]] \n",
      "\n",
      " [[6 9 8 4]\n",
      " [4 6 8 7]\n",
      " [9 5 5 1]]\n"
     ]
    }
   ],
   "source": [
    "# Create two array of shape (3,4)\n",
    "arr_1 = np.random.randint(1,10,(3,4))\n",
    "arr_2 = np.random.randint(1,10,(3,4))\n",
    "\n",
    "print(arr_1,'\\n\\n',arr_2)"
   ]
  },
  {
   "cell_type": "code",
   "execution_count": 11,
   "id": "bfbb31dd",
   "metadata": {},
   "outputs": [
    {
     "name": "stdout",
     "output_type": "stream",
     "text": [
      "[[30 81 16 32]\n",
      " [ 8 12 32 63]\n",
      " [81 40 35  7]]\n"
     ]
    }
   ],
   "source": [
    "array_sum = arr_1+arr_2\n",
    "array_diff = arr_1-arr_2\n",
    "array_multiply = arr_1*arr_2\n",
    "array_divide = arr_1/arr_2\n",
    "print(array_multiply)"
   ]
  },
  {
   "cell_type": "code",
   "execution_count": 12,
   "id": "a65d2ba8",
   "metadata": {},
   "outputs": [
    {
     "name": "stdout",
     "output_type": "stream",
     "text": [
      "[[1 1 7 8]\n",
      " [5 4 9 1]\n",
      " [5 1 6 1]\n",
      " [4 7 7 8]]\n",
      "row wise sum \n",
      " [17 19 13 26]\n",
      "Column wise sum \n",
      " [15 13 29 18]\n"
     ]
    }
   ],
   "source": [
    "# 4,4 array and row-wise and column wise sum.\n",
    "arr_3 = np.random.randint(1,10,(4,4))\n",
    "print(arr_3)\n",
    "print('row wise sum \\n', arr_3.sum(axis=1))\n",
    "print('Column wise sum \\n', arr_3.sum(axis=0))"
   ]
  },
  {
   "cell_type": "code",
   "execution_count": 13,
   "id": "063b7c1a",
   "metadata": {},
   "outputs": [
    {
     "name": "stdout",
     "output_type": "stream",
     "text": [
      "Mean --  5.08\n",
      "Median --  5.0\n",
      "Standerd Deviation --  2.431789464571306\n",
      "Variance --  5.9136\n"
     ]
    }
   ],
   "source": [
    "### Assignment 4: Statistical Operations\n",
    "\n",
    "# 1. Create a NumPy array of shape (5, 5) filled with random integers. Compute the mean, median, standard deviation, and variance of the array.\n",
    "# 2. Create a NumPy array of shape (3, 3) with values from 1 to 9. Normalize the array (i.e., scale the values to have a mean of 0 and a standard deviation of 1).\n",
    "\n",
    "# 1 \n",
    "np_4 = np.random.randint(1,10,(5,5))\n",
    "print('Mean -- ',np.mean(np_4))\n",
    "print('Median -- ',np.median(np_4))\n",
    "print('Standerd Deviation -- ',np.std(np_4))\n",
    "print('Variance -- ',np.var(np_4))"
   ]
  },
  {
   "cell_type": "code",
   "execution_count": 14,
   "id": "8303b8d9",
   "metadata": {},
   "outputs": [],
   "source": [
    "# 2"
   ]
  },
  {
   "cell_type": "code",
   "execution_count": 15,
   "id": "12eefb6c",
   "metadata": {},
   "outputs": [
    {
     "name": "stdout",
     "output_type": "stream",
     "text": [
      "1.0\n"
     ]
    }
   ],
   "source": [
    "np_5 = np.arange(1,10).reshape(3,3)\n",
    "np5mean = np.mean(np_5)\n",
    "standerdDeviation = np.std(np_5)\n",
    "normalized_array = (np_5-np5mean)/standerdDeviation\n",
    "print(np.std(normalized_array))"
   ]
  },
  {
   "cell_type": "code",
   "execution_count": 16,
   "id": "494c319b",
   "metadata": {},
   "outputs": [
    {
     "name": "stdout",
     "output_type": "stream",
     "text": [
      "[[62 70 83]\n",
      " [68 82 70]\n",
      " [78 30 27]]\n",
      "[[63 72 86]\n",
      " [69 84 73]\n",
      " [79 32 30]]\n",
      "[[61 68 80]\n",
      " [67 80 67]\n",
      " [77 28 24]]\n"
     ]
    }
   ],
   "source": [
    "### Assignment 5: Broadcasting\n",
    "\n",
    "# 1. Create a NumPy array of shape (3, 3) filled with random integers. Add a 1D array of shape (3,) to each row of the 2D array using broadcasting.\n",
    "# 2. Create a NumPy array of shape (4, 4) filled with random integers. Subtract a 1D array of shape (4,) from each column of the 2D array using broadcasting.\n",
    "\n",
    "\n",
    "np_3_3 = np.random.randint(1,90,(3,3))\n",
    "add_arr = [1,2,3]\n",
    "print(np_3_3)\n",
    "print(np_3_3 + add_arr)\n",
    "\n",
    "# Subtract\n",
    "print(np_3_3 - add_arr)"
   ]
  },
  {
   "cell_type": "code",
   "execution_count": 17,
   "id": "bf31c8b1",
   "metadata": {},
   "outputs": [
    {
     "name": "stdout",
     "output_type": "stream",
     "text": [
      "determinant ->  -100799.99999999999 \n",
      "\n",
      "Inverse --- [[-0.00113095 -0.00595238  0.01890873]\n",
      " [-0.03595238  0.04761905 -0.01293651]\n",
      " [ 0.04321429 -0.03571429 -0.00321429]] \n",
      "\n",
      "Eigen Value  [191.06841515 -35.09902443  15.03060927] \n",
      "\n"
     ]
    }
   ],
   "source": [
    "### Assignment 6: Linear Algebra\n",
    "\n",
    "# 1. Create a NumPy array of shape (3, 3) representing a matrix. Compute its determinant, inverse, and eigenvalues.\n",
    "# 2. Create two NumPy arrays of shape (2, 3) and (3, 2). Perform matrix multiplication on these arrays.\n",
    "\n",
    "determinant = np.linalg.det(np_3_3)\n",
    "inverse = np.linalg.inv(np_3_3)\n",
    "eigenvalues = np.linalg.eigvals(np_3_3)\n",
    "print(\"determinant -> \",determinant,'\\n')\n",
    "print(\"Inverse ---\",inverse,'\\n')\n",
    "print(\"Eigen Value \",eigenvalues,'\\n')"
   ]
  },
  {
   "cell_type": "code",
   "execution_count": 18,
   "id": "f8020c26",
   "metadata": {},
   "outputs": [
    {
     "name": "stdout",
     "output_type": "stream",
     "text": [
      "[[22 28]\n",
      " [49 64]]\n"
     ]
    }
   ],
   "source": [
    "a23 = np.arange(1,7).reshape(2,3)\n",
    "a32 = np.arange(1,7).reshape(3,2)\n",
    "\n",
    "multiply = np.dot(a23,a32)\n",
    "\n",
    "print(multiply)\n"
   ]
  },
  {
   "cell_type": "code",
   "execution_count": 19,
   "id": "22282755",
   "metadata": {},
   "outputs": [
    {
     "name": "stdout",
     "output_type": "stream",
     "text": [
      "[[4 3 6 4 8]\n",
      " [7 6 5 2 4]\n",
      " [8 9 5 2 2]\n",
      " [8 1 1 2 6]\n",
      " [5 7 4 4 2]]\n"
     ]
    }
   ],
   "source": [
    "#  Assignment 7: Advanced Array Manipulation\n",
    "\n",
    "# 1. Create a NumPy array of shape (3, 3) with values from 1 to 9. Reshape the array to shape (1, 9) and then to shape (9, 1).\n",
    "# 2. Create a NumPy array of shape (5, 5) filled with random integers. Flatten the array and then reshape it back to (5, 5).\n",
    "a33 = np.arange(1,10).reshape(3,3)\n",
    "reshape_1x9 = a33.reshape(1,9)\n",
    "reshape_9x1 = a33.reshape(9,1)\n",
    "arr_5X5 = np.random.randint(1,10,(5,5))\n",
    "flatten = arr_5X5.flatten()\n",
    "reshapeback = flatten.reshape(5,5)\n",
    "print(reshapeback)"
   ]
  },
  {
   "cell_type": "code",
   "execution_count": 20,
   "id": "85b2ad78",
   "metadata": {},
   "outputs": [],
   "source": [
    "# Assignment 8: Fancy Indexing and Boolean Indexing\n",
    "\n",
    "# 1. Create a NumPy array of shape (5, 5) filled with random integers. Use fancy indexing to extract the elements at the corners of the array.\n",
    "# 2. Create a NumPy array of shape (4, 4) filled with random integers. Use boolean indexing to set all elements greater than 10 to 10.\n",
    "a_5X5 = np.random.randint(1,10,(5,5))\n",
    "# print(a_5X5)\n",
    "# print(a_5X5[[0,0,-1,-1],[0,-1,0,-1]])\n",
    "a_5X5[a_5X5>7] = 7\n",
    "# print(\"Boolean indexing\",a_5X5)\n",
    "boolMask = a_5X5 > 5\n",
    "# print(\"Bool Mask\\n\",boolMask)"
   ]
  },
  {
   "cell_type": "code",
   "execution_count": null,
   "id": "4f3d6a00",
   "metadata": {},
   "outputs": [],
   "source": [
    "### Assignment 9: Structured Arrays\n",
    "\n",
    "# 1. Create a structured array with fields 'name' (string), 'age' (integer), and 'weight' (float). Add some data and sort the array by age.\n",
    "strArr = np.dtype([\n",
    "    ('name', 'U10'),\n",
    "    ('age', 'i4'),\n",
    "    ('weight', 'f8')\n",
    "])\n",
    "\n",
    "basicData = np.array([\n",
    "    ('Vivek',28,64.5),\n",
    "    ('Sunny',29,50.56)\n",
    "], dtype = strArr)\n",
    "# print(\"Sort by age \\n\", np.sort(basicData, order='age'))\n",
    "\n",
    "# 2. Create a structured array with fields 'x' and 'y' (both integers). Add some data and compute the Euclidean distance between each pair of points.\n",
    "\n",
    "euc_dtype = np.dtype([('x', np.int32), ('y', np.int32)])\n",
    "\n",
    "ecu_data = np.array([\n",
    "    (2, 3),\n",
    "    (5, 5),\n",
    "    (3, 8),\n",
    "    (10, 12),\n",
    "    (20, 25),\n",
    "    (30, 35),\n",
    "    (5, 8),\n",
    "    (13, 21),\n",
    "    (0, 0),\n",
    "    (100, 200)\n",
    "], dtype=euc_dtype)\n",
    "\n",
    "x_coerd = ecu_data['x']\n",
    "y_coerd = ecu_data['y']\n",
    "# print()\n",
    "\n"
   ]
  },
  {
   "cell_type": "code",
   "execution_count": 43,
   "id": "dbdb4324",
   "metadata": {},
   "outputs": [
    {
     "data": {
      "image/png": "[encoded data removed]",
      "text/plain": [
       "<Figure size 600x600 with 1 Axes>"
      ]
     },
     "metadata": {},
     "output_type": "display_data"
    }
   ],
   "source": [
    "# Graphical  Representation of these point \n",
    "# point_dtype = np.dtype([('x', np.int32), ('y', np.int32)])\n",
    "# points = np.array([(1, 2), (4, 6), (7, 1), (2, 8)], dtype=point_dtype)\n",
    "\n",
    "# Extract x and y values\n",
    "x = ecu_data['x']\n",
    "y = ecu_data['y']\n",
    "\n",
    "# Plot\n",
    "plt.figure(figsize=(6, 6))\n",
    "plt.scatter(x, y, color='blue', s=100, label='Points')\n",
    "for i in range(len(x)):\n",
    "    plt.text(x[i] + 0.2, y[i] + 0.2, f\"P{i} ({x[i]}, {y[i]})\", fontsize=9)\n",
    "\n",
    "plt.title(\"Scatter Plot of Points\")\n",
    "plt.xlabel(\"x\")\n",
    "plt.ylabel(\"y\")\n",
    "plt.grid(True)\n",
    "plt.legend()\n",
    "plt.axis(\"equal\")\n",
    "plt.show()\n"
   ]
  },
  {
   "cell_type": "code",
   "execution_count": null,
   "id": "01326bc5",
   "metadata": {},
   "outputs": [],
   "source": []
  }
 ],
 "metadata": {
  "kernelspec": {
   "display_name": ".env",
   "language": "python",
   "name": "python3"
  },
  "language_info": {
   "codemirror_mode": {
    "name": "ipython",
    "version": 3
   },
   "file_extension": ".py",
   "mimetype": "text/x-python",
   "name": "python",
   "nbconvert_exporter": "python",
   "pygments_lexer": "ipython3",
   "version": "3.10.12"
  }
 },
 "nbformat": 4,
 "nbformat_minor": 5
}
