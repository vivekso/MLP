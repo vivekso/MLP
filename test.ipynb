{
 "cells": [
  {
   "cell_type": "code",
   "execution_count": 1,
   "metadata": {},
   "outputs": [],
   "source": [
    "import numpy as np"
   ]
  },
  {
   "cell_type": "code",
   "execution_count": 4,
   "metadata": {},
   "outputs": [
    {
     "data": {
      "text/plain": [
       "array([[0., 4., 7., 8.],\n",
       "       [4., 0., 3., 4.],\n",
       "       [7., 3., 0., 2.],\n",
       "       [8., 4., 2., 0.]])"
      ]
     },
     "execution_count": 4,
     "metadata": {},
     "output_type": "execute_result"
    }
   ],
   "source": [
    "dataType = np.dtype([('x', 'i4'),\n",
    "                     ('y', 'i4')])\n",
    "\n",
    "points = np.array([(2,4), (6,3), (9,2), (10,4)], dtype=dataType)\n",
    "\n",
    "x_values = points['x']\n",
    "y_values = points['y']\n",
    "\n",
    "dx = x_values[:, None] - x_values\n",
    "dy = y_values[:, None] - y_values\n",
    "\n",
    "distance = np.sqrt(dx**2 + dy**2)\n",
    "distance = np.round(np.sqrt(dx**2 + dy**2))\n",
    "\n",
    "round_distance = np.round(distance, 2)\n",
    "round_distance #, distance"
   ]
  },
  {
   "cell_type": "code",
   "execution_count": null,
   "metadata": {},
   "outputs": [],
   "source": []
  }
 ],
 "metadata": {
  "kernelspec": {
   "display_name": ".env",
   "language": "python",
   "name": "python3"
  },
  "language_info": {
   "codemirror_mode": {
    "name": "ipython",
    "version": 3
   },
   "file_extension": ".py",
   "mimetype": "text/x-python",
   "name": "python",
   "nbconvert_exporter": "python",
   "pygments_lexer": "ipython3",
   "version": "3.10.12"
  }
 },
 "nbformat": 4,
 "nbformat_minor": 2
}
