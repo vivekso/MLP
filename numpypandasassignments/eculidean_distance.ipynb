{
 "cells": [
  {
   "cell_type": "code",
   "execution_count": 5,
   "id": "8edb9bce",
   "metadata": {},
   "outputs": [],
   "source": [
    "import pandas as pd\n",
    "import numpy as np"
   ]
  },
  {
   "cell_type": "code",
   "execution_count": 14,
   "id": "ad64a89f",
   "metadata": {},
   "outputs": [
    {
     "name": "stdout",
     "output_type": "stream",
     "text": [
      "[(1, 2) (6, 7) (9, 3) (5, 9)]\n"
     ]
    }
   ],
   "source": [
    "data_type = np.dtype([('x','i4'),\n",
    "                      ('y','i4'),])\n",
    "points = np.array([(1,2),(6,7),(9,3), (5,9)],dtype= data_type)\n",
    "\n",
    "print(points)"
   ]
  },
  {
   "cell_type": "code",
   "execution_count": 24,
   "id": "782d816d",
   "metadata": {},
   "outputs": [
    {
     "data": {
      "text/plain": [
       "array([[0.        , 7.07106781, 8.06225775, 8.06225775],\n",
       "       [7.07106781, 0.        , 5.        , 2.23606798],\n",
       "       [8.06225775, 5.        , 0.        , 7.21110255],\n",
       "       [8.06225775, 2.23606798, 7.21110255, 0.        ]])"
      ]
     },
     "execution_count": 24,
     "metadata": {},
     "output_type": "execute_result"
    }
   ],
   "source": [
    "x_values = points['x']\n",
    "y_values = points['y']\n",
    "\n",
    "# 3. Use broadcasting to compute distance matrix\n",
    "\n",
    "dx = x_values[:, None] - x_values\n",
    "dy = y_values[:, None] - y_values\n",
    "\n",
    "distance = np.sqrt(dx**2 + dy**2)\n",
    "distance\n"
   ]
  },
  {
   "cell_type": "code",
   "execution_count": null,
   "id": "a5028119",
   "metadata": {},
   "outputs": [],
   "source": []
  }
 ],
 "metadata": {
  "kernelspec": {
   "display_name": ".env",
   "language": "python",
   "name": "python3"
  },
  "language_info": {
   "codemirror_mode": {
    "name": "ipython",
    "version": 3
   },
   "file_extension": ".py",
   "mimetype": "text/x-python",
   "name": "python",
   "nbconvert_exporter": "python",
   "pygments_lexer": "ipython3",
   "version": "3.10.12"
  }
 },
 "nbformat": 4,
 "nbformat_minor": 5
}
