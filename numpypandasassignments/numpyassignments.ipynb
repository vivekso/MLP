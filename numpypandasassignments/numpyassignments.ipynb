{
 "cells": [
  {
   "cell_type": "markdown",
   "metadata": {},
   "source": [
    "# Module: NumPy Assignments\n",
    "## Lesson: NumPy\n",
    "### Assignment 1: Array Creation and Manipulation\n",
    "\n",
    "1. Create a NumPy array of shape (5, 5) filled with random integers between 1 and 20. Replace all the elements in the third column with 1.\n",
    "2. Create a NumPy array of shape (4, 4) with values from 1 to 16. Replace the diagonal elements with 0.\n",
    "\n",
    "### Assignment 2: Array Indexing and Slicing\n",
    "\n",
    "1. Create a NumPy array of shape (6, 6) with values from 1 to 36. Extract the sub-array consisting of the 3rd to 5th rows and 2nd to 4th columns.\n",
    "2. Create a NumPy array of shape (5, 5) with random integers. Extract the elements on the border.\n",
    "\n",
    "### Assignment 3: Array Operations\n",
    "\n",
    "1. Create two NumPy arrays of shape (3, 4) filled with random integers. Perform element-wise addition, subtraction, multiplication, and division.\n",
    "2. Create a NumPy array of shape (4, 4) with values from 1 to 16. Compute the row-wise and column-wise sum.\n",
    "\n",
    "### Assignment 4: Statistical Operations\n",
    "\n",
    "1. Create a NumPy array of shape (5, 5) filled with random integers. Compute the mean, median, standard deviation, and variance of the array.\n",
    "2. Create a NumPy array of shape (3, 3) with values from 1 to 9. Normalize the array (i.e., scale the values to have a mean of 0 and a standard deviation of 1).\n",
    "\n",
    "### Assignment 5: Broadcasting\n",
    "\n",
    "1. Create a NumPy array of shape (3, 3) filled with random integers. Add a 1D array of shape (3,) to each row of the 2D array using broadcasting.\n",
    "2. Create a NumPy array of shape (4, 4) filled with random integers. Subtract a 1D array of shape (4,) from each column of the 2D array using broadcasting.\n",
    "\n",
    "### Assignment 6: Linear Algebra\n",
    "\n",
    "1. Create a NumPy array of shape (3, 3) representing a matrix. Compute its determinant, inverse, and eigenvalues.\n",
    "2. Create two NumPy arrays of shape (2, 3) and (3, 2). Perform matrix multiplication on these arrays.\n",
    "\n",
    "### Assignment 7: Advanced Array Manipulation\n",
    "\n",
    "1. Create a NumPy array of shape (3, 3) with values from 1 to 9. Reshape the array to shape (1, 9) and then to shape (9, 1).\n",
    "2. Create a NumPy array of shape (5, 5) filled with random integers. Flatten the array and then reshape it back to (5, 5).\n",
    "\n",
    "### Assignment 8: Fancy Indexing and Boolean Indexing\n",
    "\n",
    "1. Create a NumPy array of shape (5, 5) filled with random integers. Use fancy indexing to extract the elements at the corners of the array.\n",
    "2. Create a NumPy array of shape (4, 4) filled with random integers. Use boolean indexing to set all elements greater than 10 to 10.\n",
    "\n",
    "### Assignment 9: Structured Arrays\n",
    "\n",
    "1. Create a structured array with fields 'name' (string), 'age' (integer), and 'weight' (float). Add some data and sort the array by age.\n",
    "2. Create a structured array with fields 'x' and 'y' (both integers). Add some data and compute the Euclidean distance between each pair of points.\n",
    "\n",
    "### Assignment 10: Masked Arrays\n",
    "\n",
    "1. Create a masked array of shape (4, 4) with random integers and mask the elements greater than 10. Compute the sum of the unmasked elements.\n",
    "2. Create a masked array of shape (3, 3) with random integers and mask the diagonal elements. Replace the masked elements with the mean of the unmasked elements."
   ]
  },
  {
   "cell_type": "code",
   "execution_count": 4,
   "id": "1597e7f9",
   "metadata": {},
   "outputs": [],
   "source": [
    "### Assignment 1: Array Creation and Manipulation\n",
    "\n",
    "### 1. Create a NumPy array of shape (5, 5) filled with random integers between 1 and 20. Replace all the elements in the third column with 1.\n",
    "### 2. Create a NumPy array of shape (4, 4) with values from 1 to 16. Replace the diagonal elements with 0.\n",
    "\n",
    "\n",
    "import numpy as np\n",
    "import matplotlib.pyplot as plt\n",
    "\n",
    "\n",
    "np_array = np.random.randint(1,21,(5,5))\n"
   ]
  },
  {
   "cell_type": "code",
   "execution_count": 5,
   "id": "ed0e694f",
   "metadata": {},
   "outputs": [
    {
     "name": "stdout",
     "output_type": "stream",
     "text": [
      "[[ 1 13 10 13 13]\n",
      " [ 5  3 13  6  6]\n",
      " [17  4 16  6 18]\n",
      " [ 2 15  1 14 11]\n",
      " [ 8  4  5  6 20]]\n"
     ]
    }
   ],
   "source": [
    "print(np_array)\n",
    "\n",
    "np_array[:,2] = 1"
   ]
  },
  {
   "cell_type": "code",
   "execution_count": 6,
   "id": "a4f871f1",
   "metadata": {},
   "outputs": [
    {
     "name": "stdout",
     "output_type": "stream",
     "text": [
      "[[ 1 13  1 13 13]\n",
      " [ 5  3  1  6  6]\n",
      " [17  4  1  6 18]\n",
      " [ 2 15  1 14 11]\n",
      " [ 8  4  1  6 20]]\n"
     ]
    }
   ],
   "source": [
    "print(np_array)"
   ]
  },
  {
   "cell_type": "code",
   "execution_count": 7,
   "id": "728094c9",
   "metadata": {},
   "outputs": [
    {
     "data": {
      "text/plain": [
       "array([[ 1, 12,  7,  5],\n",
       "       [13, 15,  9,  8],\n",
       "       [14,  7,  3, 15],\n",
       "       [11,  4, 14,  5]])"
      ]
     },
     "execution_count": 7,
     "metadata": {},
     "output_type": "execute_result"
    }
   ],
   "source": [
    "np_4_4_aray = np.random.randint(1,16,(4,4))\n",
    "np_4_4_aray"
   ]
  },
  {
   "cell_type": "code",
   "execution_count": 8,
   "id": "863596a1",
   "metadata": {},
   "outputs": [
    {
     "data": {
      "text/plain": [
       "array([[ 0, 12,  7,  5],\n",
       "       [13,  0,  9,  8],\n",
       "       [14,  7,  0, 15],\n",
       "       [11,  4, 14,  0]])"
      ]
     },
     "execution_count": 8,
     "metadata": {},
     "output_type": "execute_result"
    }
   ],
   "source": [
    "np.fill_diagonal(np_4_4_aray,0,wrap=True)\n",
    "np_4_4_aray"
   ]
  },
  {
   "cell_type": "code",
   "execution_count": 9,
   "id": "cef08771",
   "metadata": {},
   "outputs": [],
   "source": [
    "# Assignment 2: Array Indexing and Slicing\n",
    "\n",
    "# 1. Create a NumPy array of shape (6, 6) with values from 1 to 36. Extract the sub-array consisting of the 3rd to 5th rows and 2nd to 4th columns.\n",
    "# 2. Create a NumPy array of shape (5, 5) with random integers. Extract the elements on the border."
   ]
  },
  {
   "cell_type": "code",
   "execution_count": 10,
   "id": "b780bd25",
   "metadata": {},
   "outputs": [
    {
     "name": "stdout",
     "output_type": "stream",
     "text": [
      "Original Array \n",
      " [[ 1  2  3  4  5  6]\n",
      " [ 7  8  9 10 11 12]\n",
      " [13 14 15 16 17 18]\n",
      " [19 20 21 22 23 24]\n",
      " [25 26 27 28 29 30]\n",
      " [31 32 33 34 35 36]]\n",
      "Sub array \n",
      " [[14 15 16]\n",
      " [20 21 22]\n",
      " [26 27 28]]\n"
     ]
    }
   ],
   "source": [
    "np_6 = np.arange(1,37).reshape(6,6)\n",
    "print(\"Original Array \\n\",np_6)\n",
    "sub_array = np_6[2:5,1:4]\n",
    "print(\"Sub array \\n\",sub_array)"
   ]
  },
  {
   "cell_type": "code",
   "execution_count": 11,
   "id": "bd81d70c",
   "metadata": {},
   "outputs": [
    {
     "name": "stdout",
     "output_type": "stream",
     "text": [
      "5, 5 array \n",
      "\n",
      " [[63 66 59 73 93]\n",
      " [69 98 13 73 85]\n",
      " [63 41 76 73 59]\n",
      " [37 82 48  1 51]\n",
      " [60  6 51 65 20]]\n",
      "[63 66 59 73 93 85 59 51 20 65 51  6 60 37 63 69]\n"
     ]
    }
   ],
   "source": [
    "# (5,5) array\n",
    "np_5 = np.random.randint(1,100,(5,5))\n",
    "print(\"5, 5 array \\n\\n\", np_5)\n",
    "print(np.concatenate([np_5[0,:],np_5[1:-1,-1],np_5[-1,::-1], np_5[1:-1,0][::-1]]))"
   ]
  },
  {
   "cell_type": "code",
   "execution_count": 12,
   "id": "1616a606",
   "metadata": {},
   "outputs": [],
   "source": [
    "### Assignment 3: Array Operations\n",
    "\n",
    "# 1. Create two NumPy arrays of shape (3, 4) filled with random integers. Perform element-wise addition, subtraction, multiplication, and division.\n",
    "# 2. Create a NumPy array of shape (4, 4) with values from 1 to 16. Compute the row-wise and column-wise sum."
   ]
  },
  {
   "cell_type": "code",
   "execution_count": 13,
   "id": "1eec69f8",
   "metadata": {},
   "outputs": [
    {
     "name": "stdout",
     "output_type": "stream",
     "text": [
      "[[8 5 4 7]\n",
      " [5 7 9 5]\n",
      " [6 9 6 3]] \n",
      "\n",
      " [[9 7 4 7]\n",
      " [8 4 9 9]\n",
      " [8 1 5 4]]\n"
     ]
    }
   ],
   "source": [
    "# Create two array of shape (3,4)\n",
    "arr_1 = np.random.randint(1,10,(3,4))\n",
    "arr_2 = np.random.randint(1,10,(3,4))\n",
    "\n",
    "print(arr_1,'\\n\\n',arr_2)"
   ]
  },
  {
   "cell_type": "code",
   "execution_count": 14,
   "id": "bfbb31dd",
   "metadata": {},
   "outputs": [
    {
     "name": "stdout",
     "output_type": "stream",
     "text": [
      "[[72 35 16 49]\n",
      " [40 28 81 45]\n",
      " [48  9 30 12]]\n"
     ]
    }
   ],
   "source": [
    "array_sum = arr_1+arr_2\n",
    "array_diff = arr_1-arr_2\n",
    "array_multiply = arr_1*arr_2\n",
    "array_divide = arr_1/arr_2\n",
    "print(array_multiply)"
   ]
  },
  {
   "cell_type": "code",
   "execution_count": 15,
   "id": "a65d2ba8",
   "metadata": {},
   "outputs": [
    {
     "name": "stdout",
     "output_type": "stream",
     "text": [
      "[[8 8 2 7]\n",
      " [4 6 1 2]\n",
      " [2 9 4 1]\n",
      " [8 7 2 1]]\n",
      "row wise sum \n",
      " [25 13 16 18]\n",
      "Column wise sum \n",
      " [22 30  9 11]\n"
     ]
    }
   ],
   "source": [
    "# 4,4 array and row-wise and column wise sum.\n",
    "arr_3 = np.random.randint(1,10,(4,4))\n",
    "print(arr_3)\n",
    "print('row wise sum \\n', arr_3.sum(axis=1))\n",
    "print('Column wise sum \\n', arr_3.sum(axis=0))"
   ]
  },
  {
   "cell_type": "code",
   "execution_count": 16,
   "id": "063b7c1a",
   "metadata": {},
   "outputs": [
    {
     "name": "stdout",
     "output_type": "stream",
     "text": [
      "Mean --  5.12\n",
      "Median --  5.0\n",
      "Standerd Deviation --  2.4053274205396655\n",
      "Variance --  5.7856000000000005\n"
     ]
    }
   ],
   "source": [
    "### Assignment 4: Statistical Operations\n",
    "\n",
    "# 1. Create a NumPy array of shape (5, 5) filled with random integers. Compute the mean, median, standard deviation, and variance of the array.\n",
    "# 2. Create a NumPy array of shape (3, 3) with values from 1 to 9. Normalize the array (i.e., scale the values to have a mean of 0 and a standard deviation of 1).\n",
    "\n",
    "# 1 \n",
    "np_4 = np.random.randint(1,10,(5,5))\n",
    "print('Mean -- ',np.mean(np_4))\n",
    "print('Median -- ',np.median(np_4))\n",
    "print('Standerd Deviation -- ',np.std(np_4))\n",
    "print('Variance -- ',np.var(np_4))"
   ]
  },
  {
   "cell_type": "code",
   "execution_count": 17,
   "id": "8303b8d9",
   "metadata": {},
   "outputs": [],
   "source": [
    "# 2"
   ]
  },
  {
   "cell_type": "code",
   "execution_count": 18,
   "id": "12eefb6c",
   "metadata": {},
   "outputs": [
    {
     "name": "stdout",
     "output_type": "stream",
     "text": [
      "1.0\n"
     ]
    }
   ],
   "source": [
    "np_5 = np.arange(1,10).reshape(3,3)\n",
    "np5mean = np.mean(np_5)\n",
    "standerdDeviation = np.std(np_5)\n",
    "normalized_array = (np_5-np5mean)/standerdDeviation\n",
    "print(np.std(normalized_array))"
   ]
  },
  {
   "cell_type": "code",
   "execution_count": 19,
   "id": "494c319b",
   "metadata": {},
   "outputs": [
    {
     "name": "stdout",
     "output_type": "stream",
     "text": [
      "[[39 88 22]\n",
      " [22 83  8]\n",
      " [53 70 40]]\n",
      "[[40 90 25]\n",
      " [23 85 11]\n",
      " [54 72 43]]\n",
      "[[38 86 19]\n",
      " [21 81  5]\n",
      " [52 68 37]]\n"
     ]
    }
   ],
   "source": [
    "### Assignment 5: Broadcasting\n",
    "\n",
    "# 1. Create a NumPy array of shape (3, 3) filled with random integers. Add a 1D array of shape (3,) to each row of the 2D array using broadcasting.\n",
    "# 2. Create a NumPy array of shape (4, 4) filled with random integers. Subtract a 1D array of shape (4,) from each column of the 2D array using broadcasting.\n",
    "\n",
    "\n",
    "np_3_3 = np.random.randint(1,90,(3,3))\n",
    "add_arr = [1,2,3]\n",
    "print(np_3_3)\n",
    "print(np_3_3 + add_arr)\n",
    "\n",
    "# Subtract\n",
    "print(np_3_3 - add_arr)"
   ]
  },
  {
   "cell_type": "code",
   "execution_count": 20,
   "id": "bf31c8b1",
   "metadata": {},
   "outputs": [
    {
     "name": "stdout",
     "output_type": "stream",
     "text": [
      "determinant ->  4613.999999999995 \n",
      "\n",
      "Inverse --- [[ 0.59817945 -0.42912874 -0.24317295]\n",
      " [-0.09882965  0.08539228  0.03727785]\n",
      " [-0.61963589  0.41915908  0.28196792]] \n",
      "\n",
      "Eigen Value  [127.28444145   1.07763859  33.63791995] \n",
      "\n"
     ]
    }
   ],
   "source": [
    "### Assignment 6: Linear Algebra\n",
    "\n",
    "# 1. Create a NumPy array of shape (3, 3) representing a matrix. Compute its determinant, inverse, and eigenvalues.\n",
    "# 2. Create two NumPy arrays of shape (2, 3) and (3, 2). Perform matrix multiplication on these arrays.\n",
    "\n",
    "determinant = np.linalg.det(np_3_3)\n",
    "inverse = np.linalg.inv(np_3_3)\n",
    "eigenvalues = np.linalg.eigvals(np_3_3)\n",
    "print(\"determinant -> \",determinant,'\\n')\n",
    "print(\"Inverse ---\",inverse,'\\n')\n",
    "print(\"Eigen Value \",eigenvalues,'\\n')"
   ]
  },
  {
   "cell_type": "code",
   "execution_count": 21,
   "id": "f8020c26",
   "metadata": {},
   "outputs": [
    {
     "name": "stdout",
     "output_type": "stream",
     "text": [
      "[[22 28]\n",
      " [49 64]]\n"
     ]
    }
   ],
   "source": [
    "a23 = np.arange(1,7).reshape(2,3)\n",
    "a32 = np.arange(1,7).reshape(3,2)\n",
    "\n",
    "multiply = np.dot(a23,a32)\n",
    "\n",
    "print(multiply)\n"
   ]
  },
  {
   "cell_type": "code",
   "execution_count": 22,
   "id": "22282755",
   "metadata": {},
   "outputs": [
    {
     "name": "stdout",
     "output_type": "stream",
     "text": [
      "[[3 1 1 7 2]\n",
      " [4 9 4 8 9]\n",
      " [9 6 7 9 1]\n",
      " [4 1 3 6 7]\n",
      " [3 9 3 8 2]]\n"
     ]
    }
   ],
   "source": [
    "#  Assignment 7: Advanced Array Manipulation\n",
    "\n",
    "# 1. Create a NumPy array of shape (3, 3) with values from 1 to 9. Reshape the array to shape (1, 9) and then to shape (9, 1).\n",
    "# 2. Create a NumPy array of shape (5, 5) filled with random integers. Flatten the array and then reshape it back to (5, 5).\n",
    "a33 = np.arange(1,10).reshape(3,3)\n",
    "reshape_1x9 = a33.reshape(1,9)\n",
    "reshape_9x1 = a33.reshape(9,1)\n",
    "arr_5X5 = np.random.randint(1,10,(5,5))\n",
    "flatten = arr_5X5.flatten()\n",
    "reshapeback = flatten.reshape(5,5)\n",
    "print(reshapeback)"
   ]
  },
  {
   "cell_type": "code",
   "execution_count": 23,
   "id": "85b2ad78",
   "metadata": {},
   "outputs": [],
   "source": [
    "# Assignment 8: Fancy Indexing and Boolean Indexing\n",
    "\n",
    "# 1. Create a NumPy array of shape (5, 5) filled with random integers. Use fancy indexing to extract the elements at the corners of the array.\n",
    "# 2. Create a NumPy array of shape (4, 4) filled with random integers. Use boolean indexing to set all elements greater than 10 to 10.\n",
    "a_5X5 = np.random.randint(1,10,(5,5))\n",
    "# print(a_5X5)\n",
    "# print(a_5X5[[0,0,-1,-1],[0,-1,0,-1]])\n",
    "a_5X5[a_5X5>7] = 7\n",
    "# print(\"Boolean indexing\",a_5X5)\n",
    "boolMask = a_5X5 > 5\n",
    "# print(\"Bool Mask\\n\",boolMask)"
   ]
  },
  {
   "cell_type": "code",
   "execution_count": null,
   "id": "4f3d6a00",
   "metadata": {},
   "outputs": [
    {
     "name": "stdout",
     "output_type": "stream",
     "text": [
      "[[  0.           3.60555128   5.09901951  12.04159458  28.42534081\n",
      "   42.52058325   5.83095189  21.09502311   3.60555128 220.02954347]\n",
      " [  3.60555128   0.           3.60555128   8.60232527  25.\n",
      "   39.05124838   3.          17.88854382   7.07106781 216.91011963]\n",
      " [  5.09901951   3.60555128   0.           8.06225775  24.04163056\n",
      "   38.18376618   2.          16.40121947   8.54400375 215.11159894]\n",
      " [ 12.04159458   8.60232527   8.06225775   0.          16.40121947\n",
      "   30.47950131   6.40312424   9.48683298  15.62049935 208.43224319]\n",
      " [ 28.42534081  25.          24.04163056  16.40121947   0.\n",
      "   14.14213562  22.6715681    8.06225775  32.01562119 192.41881405]\n",
      " [ 42.52058325  39.05124838  38.18376618  30.47950131  14.14213562\n",
      "    0.          36.79673899  22.02271555  46.09772229 179.23448329]\n",
      " [  5.83095189   3.           2.           6.40312424  22.6715681\n",
      "   36.79673899   0.          15.26433752   9.43398113 214.21717952]\n",
      " [ 21.09502311  17.88854382  16.40121947   9.48683298   8.06225775\n",
      "   22.02271555  15.26433752   0.          24.69817807 199.02261178]\n",
      " [  3.60555128   7.07106781   8.54400375  15.62049935  32.01562119\n",
      "   46.09772229   9.43398113  24.69817807   0.         223.60679775]\n",
      " [220.02954347 216.91011963 215.11159894 208.43224319 192.41881405\n",
      "  179.23448329 214.21717952 199.02261178 223.60679775   0.        ]]\n"
     ]
    }
   ],
   "source": [
    "### Assignment 9: Structured Arrays\n",
    "\n",
    "# 1. Create a structured array with fields 'name' (string), 'age' (integer), and 'weight' (float). Add some data and sort the array by age.\n",
    "strArr = np.dtype([\n",
    "    ('name', 'U10'),\n",
    "    ('age', 'i4'),\n",
    "    ('weight', 'f8')\n",
    "])\n",
    "\n",
    "basicData = np.array([\n",
    "    ('Vivek',28,64.5),\n",
    "    ('Sunny',29,50.56)\n",
    "], dtype = strArr)\n",
    "# print(\"Sort by age \\n\", np.sort(basicData, order='age'))\n",
    "\n",
    "# 2. Create a structured array with fields 'x' and 'y' (both integers). Add some data and compute the Euclidean distance between each pair of points.\n",
    "\n",
    "euc_dtype = np.dtype([('x', np.int32), ('y', np.int32)])\n",
    "\n",
    "ecu_data = np.array([\n",
    "    (2, 3),\n",
    "    (5, 5),\n",
    "    (3, 8),\n",
    "    # (10, 12),\n",
    "    # (20, 25),\n",
    "    # (30, 35),\n",
    "    # (5, 8),\n",
    "    # (13, 21),\n",
    "    # (0, 0),\n",
    "    (100, 200)\n",
    "], dtype=euc_dtype)\n",
    "\n",
    "coords = np.stack((ecu_data['x'], ecu_data['y']), axis=1)\n",
    "\n",
    "diff = coords[:, np.newaxis, :]- coords[np.newaxis, : , :]\n",
    "\n",
    "ecuDistance = np.sqrt((np.sum(diff**2, axis=2)))\n",
    "\n",
    "print(ecuDistance)\n",
    "\n"
   ]
  },
  {
   "cell_type": "code",
   "execution_count": 25,
   "id": "dbdb4324",
   "metadata": {},
   "outputs": [
    {
     "data": {
      "image/png": "[encoded data removed]",
      "text/plain": [
       "<Figure size 600x600 with 1 Axes>"
      ]
     },
     "metadata": {},
     "output_type": "display_data"
    }
   ],
   "source": [
    "# Graphical  Representation of these point \n",
    "# point_dtype = np.dtype([('x', np.int32), ('y', np.int32)])\n",
    "# points = np.array([(1, 2), (4, 6), (7, 1), (2, 8)], dtype=point_dtype)\n",
    "\n",
    "# Extract x and y values\n",
    "x = ecu_data['x']\n",
    "y = ecu_data['y']\n",
    "\n",
    "# Plot\n",
    "plt.figure(figsize=(6, 6))\n",
    "plt.scatter(x, y, color='blue', s=100, label='Points')\n",
    "for i in range(len(x)):\n",
    "    plt.text(x[i] + 0.2, y[i] + 0.2, f\"P{i} ({x[i]}, {y[i]})\", fontsize=9)\n",
    "\n",
    "plt.title(\"Scatter Plot of Points\")\n",
    "plt.xlabel(\"x\")\n",
    "plt.ylabel(\"y\")\n",
    "plt.grid(True)\n",
    "plt.legend()\n",
    "plt.axis(\"equal\")\n",
    "plt.show()\n"
   ]
  },
  {
   "cell_type": "code",
   "execution_count": null,
   "id": "01326bc5",
   "metadata": {},
   "outputs": [],
   "source": []
  },
  {
   "cell_type": "markdown",
   "id": "32bbf3eb",
   "metadata": {},
   "source": []
  }
 ],
 "metadata": {
  "kernelspec": {
   "display_name": ".env",
   "language": "python",
   "name": "python3"
  },
  "language_info": {
   "codemirror_mode": {
    "name": "ipython",
    "version": 3
   },
   "file_extension": ".py",
   "mimetype": "text/x-python",
   "name": "python",
   "nbconvert_exporter": "python",
   "pygments_lexer": "ipython3",
   "version": "3.10.12"
  }
 },
 "nbformat": 4,
 "nbformat_minor": 5
}
