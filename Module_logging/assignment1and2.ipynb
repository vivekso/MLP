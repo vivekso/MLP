{
 "cells": [
  {
   "cell_type": "code",
   "execution_count": 1,
   "id": "9117a5cd",
   "metadata": {},
   "outputs": [],
   "source": [
    "import logging\n",
    "import sys\n"
   ]
  },
  {
   "cell_type": "code",
   "execution_count": null,
   "id": "79a83f08",
   "metadata": {},
   "outputs": [],
   "source": [
    "# 1. Write a Python function to create a basic logger that logs messages to a file named `app.log`.\n",
    "# 2. Modify the function to log messages of levels: DEBUG, INFO, WARNING, ERROR, and CRITICAL.\n",
    "\n",
    "def basicLogger():\n",
    "    logging.basicConfig(filename='assignement_1.log', level=logging.DEBUG)\n",
    "    logging.debug('This is debug message')\n",
    "    logging.warning('This is warning message')\n",
    "    logging.info('This is info message')\n",
    "    logging.error('This is error message')\n",
    "    logging.critical('This is critical error ')\n"
   ]
  },
  {
   "cell_type": "code",
   "execution_count": null,
   "id": "9d0007a4",
   "metadata": {},
   "outputs": [
    {
     "ename": "TypeError",
     "evalue": "Level not an integer or a valid string: <logging.Formatter object at 0x78ffcb4d3430>",
     "output_type": "error",
     "traceback": [
      "\u001b[0;31m---------------------------------------------------------------------------\u001b[0m",
      "\u001b[0;31mTypeError\u001b[0m                                 Traceback (most recent call last)",
      "Cell \u001b[0;32mIn[3], line 29\u001b[0m\n\u001b[1;32m     25\u001b[0m     logger\u001b[38;5;241m.\u001b[39mcritical(\u001b[38;5;124m'\u001b[39m\u001b[38;5;124mThis is a critical message\u001b[39m\u001b[38;5;124m'\u001b[39m)\n\u001b[1;32m     28\u001b[0m \u001b[38;5;28;01mif\u001b[39;00m \u001b[38;5;18m__name__\u001b[39m \u001b[38;5;241m==\u001b[39m \u001b[38;5;124m\"\u001b[39m\u001b[38;5;124m__main__\u001b[39m\u001b[38;5;124m\"\u001b[39m:\n\u001b[0;32m---> 29\u001b[0m     \u001b[43mlogger_with_handlers\u001b[49m\u001b[43m(\u001b[49m\u001b[43m)\u001b[49m\n",
      "Cell \u001b[0;32mIn[3], line 15\u001b[0m, in \u001b[0;36mlogger_with_handlers\u001b[0;34m()\u001b[0m\n\u001b[1;32m     12\u001b[0m consolHandler\u001b[38;5;241m.\u001b[39msetLevel(logging\u001b[38;5;241m.\u001b[39mDEBUG)\n\u001b[1;32m     14\u001b[0m formatter \u001b[38;5;241m=\u001b[39m logging\u001b[38;5;241m.\u001b[39mFormatter(\u001b[38;5;124m'\u001b[39m\u001b[38;5;132;01m%(asctime)s\u001b[39;00m\u001b[38;5;124m - \u001b[39m\u001b[38;5;132;01m%(name)s\u001b[39;00m\u001b[38;5;124m - \u001b[39m\u001b[38;5;132;01m%(levelname)s\u001b[39;00m\u001b[38;5;124m - \u001b[39m\u001b[38;5;132;01m%(message)s\u001b[39;00m\u001b[38;5;124m'\u001b[39m)\n\u001b[0;32m---> 15\u001b[0m \u001b[43mfile_hadler\u001b[49m\u001b[38;5;241;43m.\u001b[39;49m\u001b[43msetLevel\u001b[49m\u001b[43m(\u001b[49m\u001b[43mformatter\u001b[49m\u001b[43m)\u001b[49m\n\u001b[1;32m     16\u001b[0m consolHandler\u001b[38;5;241m.\u001b[39msetLevel(formatter)\n\u001b[1;32m     18\u001b[0m logger\u001b[38;5;241m.\u001b[39maddHandler(file_hadler)\n",
      "File \u001b[0;32m/usr/lib/python3.10/logging/__init__.py:930\u001b[0m, in \u001b[0;36mHandler.setLevel\u001b[0;34m(self, level)\u001b[0m\n\u001b[1;32m    926\u001b[0m \u001b[38;5;28;01mdef\u001b[39;00m\u001b[38;5;250m \u001b[39m\u001b[38;5;21msetLevel\u001b[39m(\u001b[38;5;28mself\u001b[39m, level):\n\u001b[1;32m    927\u001b[0m \u001b[38;5;250m    \u001b[39m\u001b[38;5;124;03m\"\"\"\u001b[39;00m\n\u001b[1;32m    928\u001b[0m \u001b[38;5;124;03m    Set the logging level of this handler.  level must be an int or a str.\u001b[39;00m\n\u001b[1;32m    929\u001b[0m \u001b[38;5;124;03m    \"\"\"\u001b[39;00m\n\u001b[0;32m--> 930\u001b[0m     \u001b[38;5;28mself\u001b[39m\u001b[38;5;241m.\u001b[39mlevel \u001b[38;5;241m=\u001b[39m \u001b[43m_checkLevel\u001b[49m\u001b[43m(\u001b[49m\u001b[43mlevel\u001b[49m\u001b[43m)\u001b[49m\n",
      "File \u001b[0;32m/usr/lib/python3.10/logging/__init__.py:201\u001b[0m, in \u001b[0;36m_checkLevel\u001b[0;34m(level)\u001b[0m\n\u001b[1;32m    199\u001b[0m     rv \u001b[38;5;241m=\u001b[39m _nameToLevel[level]\n\u001b[1;32m    200\u001b[0m \u001b[38;5;28;01melse\u001b[39;00m:\n\u001b[0;32m--> 201\u001b[0m     \u001b[38;5;28;01mraise\u001b[39;00m \u001b[38;5;167;01mTypeError\u001b[39;00m(\u001b[38;5;124m\"\u001b[39m\u001b[38;5;124mLevel not an integer or a valid string: \u001b[39m\u001b[38;5;132;01m%r\u001b[39;00m\u001b[38;5;124m\"\u001b[39m\n\u001b[1;32m    202\u001b[0m                     \u001b[38;5;241m%\u001b[39m (level,))\n\u001b[1;32m    203\u001b[0m \u001b[38;5;28;01mreturn\u001b[39;00m rv\n",
      "\u001b[0;31mTypeError\u001b[0m: Level not an integer or a valid string: <logging.Formatter object at 0x78ffcb4d3430>"
     ]
    }
   ],
   "source": [
    "\n",
    "# 1. Write a Python function to create a logger that logs messages to both a file named `app.log` and the console.\n",
    "# 2. Modify the function to use different logging levels for the file and console handlers.\n",
    "\n",
    "def logger_with_handlers():\n",
    "    logger = logging.getLogger('my_logger')\n",
    "    logger.setLevel(logging.DEBUG)\n",
    "\n",
    "    file_hadler = logging.FileHandler('app.log')\n",
    "    consolHandler = logging.StreamHandler()\n",
    "\n",
    "    file_hadler.setLevel(logging.DEBUG)\n",
    "    consolHandler.setLevel(logging.DEBUG)\n",
    "\n",
    "\n",
    "    formatter = logging.Formatter('%(asctime)s - %(name)s - %(levelname)s - %(message)s')\n",
    "    file_hadler.setFormatter(formatter)\n",
    "    consolHandler.setFormatter(formatter)\n",
    "\n",
    "    # file_hadler.setLevel(formatter)\n",
    "    # consolHandler.setLevel(formatter)\n",
    "\n",
    "    logger.addHandler(file_hadler)\n",
    "    logger.addHandler(consolHandler)\n",
    "\n",
    "    logger.debug('This is a debug message')\n",
    "    logger.info('This is an info message')\n",
    "    logger.warning('This is a warning message')\n",
    "    logger.error('This is an error message')\n",
    "    logger.critical('This is a critical message')\n",
    "\n",
    "\n",
    "if __name__ == \"__main__\":\n",
    "    logger_with_handlers()"
   ]
  },
  {
   "cell_type": "code",
   "execution_count": null,
   "id": "21468845",
   "metadata": {},
   "outputs": [],
   "source": []
  }
 ],
 "metadata": {
  "kernelspec": {
   "display_name": ".udemy_practise",
   "language": "python",
   "name": "python3"
  },
  "language_info": {
   "codemirror_mode": {
    "name": "ipython",
    "version": 3
   },
   "file_extension": ".py",
   "mimetype": "text/x-python",
   "name": "python",
   "nbconvert_exporter": "python",
   "pygments_lexer": "ipython3",
   "version": "3.10.12"
  }
 },
 "nbformat": 4,
 "nbformat_minor": 5
}
